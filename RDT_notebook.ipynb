{
 "metadata": {
  "name": "",
  "signature": "sha256:5bd0b728ad86f092a7a71269629a9eba6e1df1b7afa452c44a5d48f4ee7521e8"
 },
 "nbformat": 3,
 "nbformat_minor": 0,
 "worksheets": []
}