{
 "metadata": {
  "name": "",
  "signature": "sha256:5e780f2ffc380c318a547ab46bf639500e94912304e80d6622aaa2c918672fa7"
 },
 "nbformat": 3,
 "nbformat_minor": 0,
 "worksheets": [
  {
   "cells": [
    {
     "cell_type": "markdown",
     "metadata": {},
     "source": [
      "## Welcome to SWC python novice lesson part 1\n",
      "First things first! Download the directory with data and scripts to your computer.\n",
      "\n",
      "```bash\n",
      "cd ~/Desktop # or wherever you want this folder to be\n",
      "git clone https://github.com/rdtarvin/swc_UCSF_python\n",
      "```\n",
      "\n",
      "If you want to access my python notebook, which I will update during the lesson, just navigate to https://github.com/rdtarvin/swc_UCSF_python/blob/master/RDT_notebook.ipynb and refresh the page."
     ]
    },
    {
     "cell_type": "code",
     "collapsed": false,
     "input": [
      "4*4"
     ],
     "language": "python",
     "metadata": {},
     "outputs": [
      {
       "metadata": {},
       "output_type": "pyout",
       "prompt_number": 1,
       "text": [
        "16"
       ]
      }
     ],
     "prompt_number": 1
    },
    {
     "cell_type": "code",
     "collapsed": false,
     "input": [
      "4+6"
     ],
     "language": "python",
     "metadata": {},
     "outputs": [
      {
       "metadata": {},
       "output_type": "pyout",
       "prompt_number": 2,
       "text": [
        "10"
       ]
      }
     ],
     "prompt_number": 2
    },
    {
     "cell_type": "code",
     "collapsed": false,
     "input": [
      "import numpy"
     ],
     "language": "python",
     "metadata": {},
     "outputs": [],
     "prompt_number": 3
    },
    {
     "cell_type": "code",
     "collapsed": false,
     "input": [
      "numpy.loadtxt(fname='data/inflammation-01.csv',delimiter=',')"
     ],
     "language": "python",
     "metadata": {},
     "outputs": [
      {
       "metadata": {},
       "output_type": "pyout",
       "prompt_number": 4,
       "text": [
        "array([[ 0.,  0.,  1., ...,  3.,  0.,  0.],\n",
        "       [ 0.,  1.,  2., ...,  1.,  0.,  1.],\n",
        "       [ 0.,  1.,  1., ...,  2.,  1.,  1.],\n",
        "       ..., \n",
        "       [ 0.,  1.,  1., ...,  1.,  1.,  1.],\n",
        "       [ 0.,  0.,  0., ...,  0.,  2.,  0.],\n",
        "       [ 0.,  0.,  1., ...,  1.,  1.,  0.]])"
       ]
      }
     ],
     "prompt_number": 4
    },
    {
     "cell_type": "code",
     "collapsed": false,
     "input": [
      "data=numpy.loadtxt(fname='data/inflammation-01.csv',delimiter=',')"
     ],
     "language": "python",
     "metadata": {},
     "outputs": [],
     "prompt_number": 5
    },
    {
     "cell_type": "code",
     "collapsed": false,
     "input": [
      "data"
     ],
     "language": "python",
     "metadata": {},
     "outputs": [
      {
       "metadata": {},
       "output_type": "pyout",
       "prompt_number": 6,
       "text": [
        "array([[ 0.,  0.,  1., ...,  3.,  0.,  0.],\n",
        "       [ 0.,  1.,  2., ...,  1.,  0.,  1.],\n",
        "       [ 0.,  1.,  1., ...,  2.,  1.,  1.],\n",
        "       ..., \n",
        "       [ 0.,  1.,  1., ...,  1.,  1.,  1.],\n",
        "       [ 0.,  0.,  0., ...,  0.,  2.,  0.],\n",
        "       [ 0.,  0.,  1., ...,  1.,  1.,  0.]])"
       ]
      }
     ],
     "prompt_number": 6
    },
    {
     "cell_type": "code",
     "collapsed": false,
     "input": [
      "4*4"
     ],
     "language": "python",
     "metadata": {},
     "outputs": [
      {
       "metadata": {},
       "output_type": "pyout",
       "prompt_number": 7,
       "text": [
        "16"
       ]
      }
     ],
     "prompt_number": 7
    },
    {
     "cell_type": "code",
     "collapsed": false,
     "input": [
      "number=4"
     ],
     "language": "python",
     "metadata": {},
     "outputs": [],
     "prompt_number": 8
    },
    {
     "cell_type": "code",
     "collapsed": false,
     "input": [
      "number"
     ],
     "language": "python",
     "metadata": {},
     "outputs": [
      {
       "metadata": {},
       "output_type": "pyout",
       "prompt_number": 9,
       "text": [
        "4"
       ]
      }
     ],
     "prompt_number": 9
    },
    {
     "cell_type": "code",
     "collapsed": false,
     "input": [
      "number=7"
     ],
     "language": "python",
     "metadata": {},
     "outputs": [],
     "prompt_number": 10
    },
    {
     "cell_type": "code",
     "collapsed": false,
     "input": [
      "number"
     ],
     "language": "python",
     "metadata": {},
     "outputs": [
      {
       "metadata": {},
       "output_type": "pyout",
       "prompt_number": 11,
       "text": [
        "7"
       ]
      }
     ],
     "prompt_number": 11
    },
    {
     "cell_type": "code",
     "collapsed": false,
     "input": [
      "number*number"
     ],
     "language": "python",
     "metadata": {},
     "outputs": [
      {
       "metadata": {},
       "output_type": "pyout",
       "prompt_number": 12,
       "text": [
        "49"
       ]
      }
     ],
     "prompt_number": 12
    },
    {
     "cell_type": "code",
     "collapsed": false,
     "input": [
      "number-4"
     ],
     "language": "python",
     "metadata": {},
     "outputs": [
      {
       "metadata": {},
       "output_type": "pyout",
       "prompt_number": 13,
       "text": [
        "3"
       ]
      }
     ],
     "prompt_number": 13
    },
    {
     "cell_type": "code",
     "collapsed": false,
     "input": [
      "number=5.5"
     ],
     "language": "python",
     "metadata": {},
     "outputs": [],
     "prompt_number": 14
    },
    {
     "cell_type": "code",
     "collapsed": false,
     "input": [
      "type(number)"
     ],
     "language": "python",
     "metadata": {},
     "outputs": [
      {
       "metadata": {},
       "output_type": "pyout",
       "prompt_number": 15,
       "text": [
        "float"
       ]
      }
     ],
     "prompt_number": 15
    },
    {
     "cell_type": "code",
     "collapsed": false,
     "input": [
      "number2=4\n"
     ],
     "language": "python",
     "metadata": {},
     "outputs": [],
     "prompt_number": 16
    },
    {
     "cell_type": "code",
     "collapsed": false,
     "input": [
      "type(number2)"
     ],
     "language": "python",
     "metadata": {},
     "outputs": [
      {
       "metadata": {},
       "output_type": "pyout",
       "prompt_number": 17,
       "text": [
        "int"
       ]
      }
     ],
     "prompt_number": 17
    },
    {
     "cell_type": "code",
     "collapsed": false,
     "input": [
      "word='AGTC'"
     ],
     "language": "python",
     "metadata": {},
     "outputs": [],
     "prompt_number": 18
    },
    {
     "cell_type": "code",
     "collapsed": false,
     "input": [
      "word"
     ],
     "language": "python",
     "metadata": {},
     "outputs": [
      {
       "metadata": {},
       "output_type": "pyout",
       "prompt_number": 19,
       "text": [
        "'AGTC'"
       ]
      }
     ],
     "prompt_number": 19
    },
    {
     "cell_type": "code",
     "collapsed": false,
     "input": [
      "type(word)"
     ],
     "language": "python",
     "metadata": {},
     "outputs": [
      {
       "metadata": {},
       "output_type": "pyout",
       "prompt_number": 20,
       "text": [
        "str"
       ]
      }
     ],
     "prompt_number": 20
    },
    {
     "cell_type": "code",
     "collapsed": false,
     "input": [
      "word+word"
     ],
     "language": "python",
     "metadata": {},
     "outputs": [
      {
       "metadata": {},
       "output_type": "pyout",
       "prompt_number": 21,
       "text": [
        "'AGTCAGTC'"
       ]
      }
     ],
     "prompt_number": 21
    },
    {
     "cell_type": "code",
     "collapsed": false,
     "input": [
      "word*word"
     ],
     "language": "python",
     "metadata": {},
     "outputs": [
      {
       "ename": "TypeError",
       "evalue": "can't multiply sequence by non-int of type 'str'",
       "output_type": "pyerr",
       "traceback": [
        "\u001b[0;31m---------------------------------------------------------------------------\u001b[0m\n\u001b[0;31mTypeError\u001b[0m                                 Traceback (most recent call last)",
        "\u001b[0;32m<ipython-input-22-2ff87335b0f8>\u001b[0m in \u001b[0;36m<module>\u001b[0;34m()\u001b[0m\n\u001b[0;32m----> 1\u001b[0;31m \u001b[0mword\u001b[0m\u001b[0;34m*\u001b[0m\u001b[0mword\u001b[0m\u001b[0;34m\u001b[0m\u001b[0m\n\u001b[0m",
        "\u001b[0;31mTypeError\u001b[0m: can't multiply sequence by non-int of type 'str'"
       ]
      }
     ],
     "prompt_number": 22
    },
    {
     "cell_type": "code",
     "collapsed": false,
     "input": [
      "word*4"
     ],
     "language": "python",
     "metadata": {},
     "outputs": [
      {
       "metadata": {},
       "output_type": "pyout",
       "prompt_number": 24,
       "text": [
        "'AGTCAGTCAGTCAGTC'"
       ]
      }
     ],
     "prompt_number": 24
    },
    {
     "cell_type": "code",
     "collapsed": false,
     "input": [
      "word[1]"
     ],
     "language": "python",
     "metadata": {},
     "outputs": [
      {
       "metadata": {},
       "output_type": "pyout",
       "prompt_number": 25,
       "text": [
        "'G'"
       ]
      }
     ],
     "prompt_number": 25
    },
    {
     "cell_type": "code",
     "collapsed": false,
     "input": [
      "word[0]"
     ],
     "language": "python",
     "metadata": {},
     "outputs": [
      {
       "metadata": {},
       "output_type": "pyout",
       "prompt_number": 26,
       "text": [
        "'A'"
       ]
      }
     ],
     "prompt_number": 26
    },
    {
     "cell_type": "code",
     "collapsed": false,
     "input": [
      "word[0:1]"
     ],
     "language": "python",
     "metadata": {},
     "outputs": [
      {
       "metadata": {},
       "output_type": "pyout",
       "prompt_number": 27,
       "text": [
        "'A'"
       ]
      }
     ],
     "prompt_number": 27
    },
    {
     "cell_type": "code",
     "collapsed": false,
     "input": [
      "word[0:2]"
     ],
     "language": "python",
     "metadata": {},
     "outputs": [
      {
       "metadata": {},
       "output_type": "pyout",
       "prompt_number": 28,
       "text": [
        "'AG'"
       ]
      }
     ],
     "prompt_number": 28
    },
    {
     "cell_type": "code",
     "collapsed": false,
     "input": [
      "word[4]"
     ],
     "language": "python",
     "metadata": {},
     "outputs": [
      {
       "ename": "IndexError",
       "evalue": "string index out of range",
       "output_type": "pyerr",
       "traceback": [
        "\u001b[0;31m---------------------------------------------------------------------------\u001b[0m\n\u001b[0;31mIndexError\u001b[0m                                Traceback (most recent call last)",
        "\u001b[0;32m<ipython-input-29-0f60b05cded6>\u001b[0m in \u001b[0;36m<module>\u001b[0;34m()\u001b[0m\n\u001b[0;32m----> 1\u001b[0;31m \u001b[0mword\u001b[0m\u001b[0;34m[\u001b[0m\u001b[0;36m4\u001b[0m\u001b[0;34m]\u001b[0m\u001b[0;34m\u001b[0m\u001b[0m\n\u001b[0m",
        "\u001b[0;31mIndexError\u001b[0m: string index out of range"
       ]
      }
     ],
     "prompt_number": 29
    },
    {
     "cell_type": "code",
     "collapsed": false,
     "input": [
      "word[3]"
     ],
     "language": "python",
     "metadata": {},
     "outputs": [
      {
       "metadata": {},
       "output_type": "pyout",
       "prompt_number": 30,
       "text": [
        "'C'"
       ]
      }
     ],
     "prompt_number": 30
    },
    {
     "cell_type": "code",
     "collapsed": false,
     "input": [
      "word[0:1]"
     ],
     "language": "python",
     "metadata": {},
     "outputs": [
      {
       "metadata": {},
       "output_type": "pyout",
       "prompt_number": 31,
       "text": [
        "'A'"
       ]
      }
     ],
     "prompt_number": 31
    },
    {
     "cell_type": "raw",
     "metadata": {},
     "source": [
      "word[-1]"
     ]
    },
    {
     "cell_type": "code",
     "collapsed": false,
     "input": [
      "word[-1]"
     ],
     "language": "python",
     "metadata": {},
     "outputs": [
      {
       "metadata": {},
       "output_type": "pyout",
       "prompt_number": 32,
       "text": [
        "'C'"
       ]
      }
     ],
     "prompt_number": 32
    },
    {
     "cell_type": "code",
     "collapsed": false,
     "input": [
      "word[-1:-3]"
     ],
     "language": "python",
     "metadata": {},
     "outputs": [
      {
       "metadata": {},
       "output_type": "pyout",
       "prompt_number": 33,
       "text": [
        "''"
       ]
      }
     ],
     "prompt_number": 33
    },
    {
     "cell_type": "code",
     "collapsed": false,
     "input": [
      "word[-3:-1]"
     ],
     "language": "python",
     "metadata": {},
     "outputs": [
      {
       "metadata": {},
       "output_type": "pyout",
       "prompt_number": 34,
       "text": [
        "'GT'"
       ]
      }
     ],
     "prompt_number": 34
    },
    {
     "cell_type": "code",
     "collapsed": false,
     "input": [
      "len(word)"
     ],
     "language": "python",
     "metadata": {},
     "outputs": [
      {
       "metadata": {},
       "output_type": "pyout",
       "prompt_number": 35,
       "text": [
        "4"
       ]
      }
     ],
     "prompt_number": 35
    },
    {
     "cell_type": "code",
     "collapsed": false,
     "input": [
      "word[0:len(word)]"
     ],
     "language": "python",
     "metadata": {},
     "outputs": [
      {
       "metadata": {},
       "output_type": "pyout",
       "prompt_number": 36,
       "text": [
        "'AGTC'"
       ]
      }
     ],
     "prompt_number": 36
    },
    {
     "cell_type": "code",
     "collapsed": false,
     "input": [
      "data"
     ],
     "language": "python",
     "metadata": {},
     "outputs": [
      {
       "metadata": {},
       "output_type": "pyout",
       "prompt_number": 37,
       "text": [
        "array([[ 0.,  0.,  1., ...,  3.,  0.,  0.],\n",
        "       [ 0.,  1.,  2., ...,  1.,  0.,  1.],\n",
        "       [ 0.,  1.,  1., ...,  2.,  1.,  1.],\n",
        "       ..., \n",
        "       [ 0.,  1.,  1., ...,  1.,  1.,  1.],\n",
        "       [ 0.,  0.,  0., ...,  0.,  2.,  0.],\n",
        "       [ 0.,  0.,  1., ...,  1.,  1.,  0.]])"
       ]
      }
     ],
     "prompt_number": 37
    },
    {
     "cell_type": "code",
     "collapsed": false,
     "input": [
      "data[1]"
     ],
     "language": "python",
     "metadata": {},
     "outputs": [
      {
       "metadata": {},
       "output_type": "pyout",
       "prompt_number": 38,
       "text": [
        "array([  0.,   1.,   2.,   1.,   2.,   1.,   3.,   2.,   2.,   6.,  10.,\n",
        "        11.,   5.,   9.,   4.,   4.,   7.,  16.,   8.,   6.,  18.,   4.,\n",
        "        12.,   5.,  12.,   7.,  11.,   5.,  11.,   3.,   3.,   5.,   4.,\n",
        "         4.,   5.,   5.,   1.,   1.,   0.,   1.])"
       ]
      }
     ],
     "prompt_number": 38
    },
    {
     "cell_type": "code",
     "collapsed": false,
     "input": [
      "data[0,1]"
     ],
     "language": "python",
     "metadata": {},
     "outputs": [
      {
       "metadata": {},
       "output_type": "pyout",
       "prompt_number": 39,
       "text": [
        "0.0"
       ]
      }
     ],
     "prompt_number": 39
    },
    {
     "cell_type": "code",
     "collapsed": false,
     "input": [
      "data.shape"
     ],
     "language": "python",
     "metadata": {},
     "outputs": [
      {
       "metadata": {},
       "output_type": "pyout",
       "prompt_number": 40,
       "text": [
        "(60, 40)"
       ]
      }
     ],
     "prompt_number": 40
    },
    {
     "cell_type": "code",
     "collapsed": false,
     "input": [
      "data.mean()"
     ],
     "language": "python",
     "metadata": {},
     "outputs": [
      {
       "metadata": {},
       "output_type": "pyout",
       "prompt_number": 41,
       "text": [
        "6.1487499999999997"
       ]
      }
     ],
     "prompt_number": 41
    },
    {
     "cell_type": "code",
     "collapsed": false,
     "input": [
      "data.mean()[,20]"
     ],
     "language": "python",
     "metadata": {},
     "outputs": [
      {
       "ename": "SyntaxError",
       "evalue": "invalid syntax (<ipython-input-42-78a301166571>, line 1)",
       "output_type": "pyerr",
       "traceback": [
        "\u001b[0;36m  File \u001b[0;32m\"<ipython-input-42-78a301166571>\"\u001b[0;36m, line \u001b[0;32m1\u001b[0m\n\u001b[0;31m    data.mean()[,20]\u001b[0m\n\u001b[0m                ^\u001b[0m\n\u001b[0;31mSyntaxError\u001b[0m\u001b[0;31m:\u001b[0m invalid syntax\n"
       ]
      }
     ],
     "prompt_number": 42
    },
    {
     "cell_type": "code",
     "collapsed": false,
     "input": [
      "data.mean()[20]"
     ],
     "language": "python",
     "metadata": {},
     "outputs": [
      {
       "ename": "IndexError",
       "evalue": "invalid index to scalar variable.",
       "output_type": "pyerr",
       "traceback": [
        "\u001b[0;31m---------------------------------------------------------------------------\u001b[0m\n\u001b[0;31mIndexError\u001b[0m                                Traceback (most recent call last)",
        "\u001b[0;32m<ipython-input-43-9f71caacc468>\u001b[0m in \u001b[0;36m<module>\u001b[0;34m()\u001b[0m\n\u001b[0;32m----> 1\u001b[0;31m \u001b[0mdata\u001b[0m\u001b[0;34m.\u001b[0m\u001b[0mmean\u001b[0m\u001b[0;34m(\u001b[0m\u001b[0;34m)\u001b[0m\u001b[0;34m[\u001b[0m\u001b[0;36m20\u001b[0m\u001b[0;34m]\u001b[0m\u001b[0;34m\u001b[0m\u001b[0m\n\u001b[0m",
        "\u001b[0;31mIndexError\u001b[0m: invalid index to scalar variable."
       ]
      }
     ],
     "prompt_number": 43
    },
    {
     "cell_type": "code",
     "collapsed": false,
     "input": [
      "data.mean()[:,20]"
     ],
     "language": "python",
     "metadata": {},
     "outputs": [
      {
       "ename": "IndexError",
       "evalue": "invalid index to scalar variable.",
       "output_type": "pyerr",
       "traceback": [
        "\u001b[0;31m---------------------------------------------------------------------------\u001b[0m\n\u001b[0;31mIndexError\u001b[0m                                Traceback (most recent call last)",
        "\u001b[0;32m<ipython-input-44-da01a10ae8b6>\u001b[0m in \u001b[0;36m<module>\u001b[0;34m()\u001b[0m\n\u001b[0;32m----> 1\u001b[0;31m \u001b[0mdata\u001b[0m\u001b[0;34m.\u001b[0m\u001b[0mmean\u001b[0m\u001b[0;34m(\u001b[0m\u001b[0;34m)\u001b[0m\u001b[0;34m[\u001b[0m\u001b[0;34m:\u001b[0m\u001b[0;34m,\u001b[0m\u001b[0;36m20\u001b[0m\u001b[0;34m]\u001b[0m\u001b[0;34m\u001b[0m\u001b[0m\n\u001b[0m",
        "\u001b[0;31mIndexError\u001b[0m: invalid index to scalar variable."
       ]
      }
     ],
     "prompt_number": 44
    },
    {
     "cell_type": "code",
     "collapsed": false,
     "input": [
      "data[:,20]"
     ],
     "language": "python",
     "metadata": {},
     "outputs": [
      {
       "metadata": {},
       "output_type": "pyout",
       "prompt_number": 45,
       "text": [
        "array([  6.,  18.,  19.,  17.,   9.,  12.,   9.,  20.,   6.,  18.,   8.,\n",
        "         9.,  13.,  15.,  12.,   9.,  13.,  13.,   7.,   9.,  18.,  12.,\n",
        "        16.,  14.,  17.,   7.,   9.,  15.,  20.,  14.,  13.,  19.,  11.,\n",
        "        10.,  14.,  15.,  16.,  15.,  19.,  15.,  18.,  19.,  12.,  18.,\n",
        "         6.,  14.,  19.,  10.,  12.,  16.,   5.,  20.,  11.,  15.,  16.,\n",
        "        16.,  14.,   9.,   8.,   6.])"
       ]
      }
     ],
     "prompt_number": 45
    },
    {
     "cell_type": "code",
     "collapsed": false,
     "input": [
      "data[:,20].shape"
     ],
     "language": "python",
     "metadata": {},
     "outputs": [
      {
       "metadata": {},
       "output_type": "pyout",
       "prompt_number": 46,
       "text": [
        "(60,)"
       ]
      }
     ],
     "prompt_number": 46
    },
    {
     "cell_type": "code",
     "collapsed": false,
     "input": [
      "data[:,20].mean()"
     ],
     "language": "python",
     "metadata": {},
     "outputs": [
      {
       "metadata": {},
       "output_type": "pyout",
       "prompt_number": 47,
       "text": [
        "13.25"
       ]
      }
     ],
     "prompt_number": 47
    },
    {
     "cell_type": "code",
     "collapsed": false,
     "input": [
      "data[1,:]"
     ],
     "language": "python",
     "metadata": {},
     "outputs": [
      {
       "metadata": {},
       "output_type": "pyout",
       "prompt_number": 48,
       "text": [
        "array([  0.,   1.,   2.,   1.,   2.,   1.,   3.,   2.,   2.,   6.,  10.,\n",
        "        11.,   5.,   9.,   4.,   4.,   7.,  16.,   8.,   6.,  18.,   4.,\n",
        "        12.,   5.,  12.,   7.,  11.,   5.,  11.,   3.,   3.,   5.,   4.,\n",
        "         4.,   5.,   5.,   1.,   1.,   0.,   1.])"
       ]
      }
     ],
     "prompt_number": 48
    },
    {
     "cell_type": "code",
     "collapsed": false,
     "input": [
      "data[1]"
     ],
     "language": "python",
     "metadata": {},
     "outputs": [
      {
       "metadata": {},
       "output_type": "pyout",
       "prompt_number": 49,
       "text": [
        "array([  0.,   1.,   2.,   1.,   2.,   1.,   3.,   2.,   2.,   6.,  10.,\n",
        "        11.,   5.,   9.,   4.,   4.,   7.,  16.,   8.,   6.,  18.,   4.,\n",
        "        12.,   5.,  12.,   7.,  11.,   5.,  11.,   3.,   3.,   5.,   4.,\n",
        "         4.,   5.,   5.,   1.,   1.,   0.,   1.])"
       ]
      }
     ],
     "prompt_number": 49
    },
    {
     "cell_type": "code",
     "collapsed": false,
     "input": [
      "data[1,1:3]"
     ],
     "language": "python",
     "metadata": {},
     "outputs": [
      {
       "metadata": {},
       "output_type": "pyout",
       "prompt_number": 50,
       "text": [
        "array([ 1.,  2.])"
       ]
      }
     ],
     "prompt_number": 50
    },
    {
     "cell_type": "code",
     "collapsed": false,
     "input": [
      "data"
     ],
     "language": "python",
     "metadata": {},
     "outputs": [
      {
       "metadata": {},
       "output_type": "pyout",
       "prompt_number": 51,
       "text": [
        "array([[ 0.,  0.,  1., ...,  3.,  0.,  0.],\n",
        "       [ 0.,  1.,  2., ...,  1.,  0.,  1.],\n",
        "       [ 0.,  1.,  1., ...,  2.,  1.,  1.],\n",
        "       ..., \n",
        "       [ 0.,  1.,  1., ...,  1.,  1.,  1.],\n",
        "       [ 0.,  0.,  0., ...,  0.,  2.,  0.],\n",
        "       [ 0.,  0.,  1., ...,  1.,  1.,  0.]])"
       ]
      }
     ],
     "prompt_number": 51
    },
    {
     "cell_type": "code",
     "collapsed": false,
     "input": [
      "data[:,:]"
     ],
     "language": "python",
     "metadata": {},
     "outputs": [
      {
       "metadata": {},
       "output_type": "pyout",
       "prompt_number": 52,
       "text": [
        "array([[ 0.,  0.,  1., ...,  3.,  0.,  0.],\n",
        "       [ 0.,  1.,  2., ...,  1.,  0.,  1.],\n",
        "       [ 0.,  1.,  1., ...,  2.,  1.,  1.],\n",
        "       ..., \n",
        "       [ 0.,  1.,  1., ...,  1.,  1.,  1.],\n",
        "       [ 0.,  0.,  0., ...,  0.,  2.,  0.],\n",
        "       [ 0.,  0.,  1., ...,  1.,  1.,  0.]])"
       ]
      }
     ],
     "prompt_number": 52
    },
    {
     "cell_type": "code",
     "collapsed": false,
     "input": [
      "data[:,3]"
     ],
     "language": "python",
     "metadata": {},
     "outputs": [
      {
       "metadata": {},
       "output_type": "pyout",
       "prompt_number": 53,
       "text": [
        "array([ 3.,  1.,  3.,  0.,  3.,  2.,  2.,  2.,  3.,  2.,  0.,  0.,  1.,\n",
        "        0.,  1.,  0.,  0.,  1.,  1.,  0.,  3.,  3.,  3.,  1.,  1.,  1.,\n",
        "        2.,  1.,  2.,  1.,  0.,  3.,  2.,  1.,  2.,  3.,  2.,  2.,  3.,\n",
        "        3.,  2.,  3.,  3.,  3.,  3.,  2.,  3.,  3.,  3.,  2.,  1.,  2.,\n",
        "        2.,  1.,  1.,  3.,  2.,  1.,  1.,  0.])"
       ]
      }
     ],
     "prompt_number": 53
    },
    {
     "cell_type": "code",
     "collapsed": false,
     "input": [
      "%matplotlib inline"
     ],
     "language": "python",
     "metadata": {},
     "outputs": [],
     "prompt_number": 54
    },
    {
     "cell_type": "code",
     "collapsed": false,
     "input": [
      "import matplotlib.pyplot"
     ],
     "language": "python",
     "metadata": {},
     "outputs": [],
     "prompt_number": 55
    },
    {
     "cell_type": "code",
     "collapsed": false,
     "input": [
      "image=matplotlib.pyplot.imshow(data)"
     ],
     "language": "python",
     "metadata": {},
     "outputs": [
      {
       "metadata": {},
       "output_type": "display_data",
       "png": "[encoded data removed]",
       "text": [
        "<matplotlib.figure.Figure at 0x1061f2050>"
       ]
      }
     ],
     "prompt_number": 56
    },
    {
     "cell_type": "code",
     "collapsed": false,
     "input": [
      "data"
     ],
     "language": "python",
     "metadata": {},
     "outputs": [
      {
       "metadata": {},
       "output_type": "pyout",
       "prompt_number": 57,
       "text": [
        "array([[ 0.,  0.,  1., ...,  3.,  0.,  0.],\n",
        "       [ 0.,  1.,  2., ...,  1.,  0.,  1.],\n",
        "       [ 0.,  1.,  1., ...,  2.,  1.,  1.],\n",
        "       ..., \n",
        "       [ 0.,  1.,  1., ...,  1.,  1.,  1.],\n",
        "       [ 0.,  0.,  0., ...,  0.,  2.,  0.],\n",
        "       [ 0.,  0.,  1., ...,  1.,  1.,  0.]])"
       ]
      }
     ],
     "prompt_number": 57
    },
    {
     "cell_type": "code",
     "collapsed": false,
     "input": [
      "list(data)"
     ],
     "language": "python",
     "metadata": {},
     "outputs": [
      {
       "metadata": {},
       "output_type": "pyout",
       "prompt_number": 58,
       "text": [
        "[array([  0.,   0.,   1.,   3.,   1.,   2.,   4.,   7.,   8.,   3.,   3.,\n",
        "          3.,  10.,   5.,   7.,   4.,   7.,   7.,  12.,  18.,   6.,  13.,\n",
        "         11.,  11.,   7.,   7.,   4.,   6.,   8.,   8.,   4.,   4.,   5.,\n",
        "          7.,   3.,   4.,   2.,   3.,   0.,   0.]),\n",
        " array([  0.,   1.,   2.,   1.,   2.,   1.,   3.,   2.,   2.,   6.,  10.,\n",
        "         11.,   5.,   9.,   4.,   4.,   7.,  16.,   8.,   6.,  18.,   4.,\n",
        "         12.,   5.,  12.,   7.,  11.,   5.,  11.,   3.,   3.,   5.,   4.,\n",
        "          4.,   5.,   5.,   1.,   1.,   0.,   1.]),\n",
        " array([  0.,   1.,   1.,   3.,   3.,   2.,   6.,   2.,   5.,   9.,   5.,\n",
        "          7.,   4.,   5.,   4.,  15.,   5.,  11.,   9.,  10.,  19.,  14.,\n",
        "         12.,  17.,   7.,  12.,  11.,   7.,   4.,   2.,  10.,   5.,   4.,\n",
        "          2.,   2.,   3.,   2.,   2.,   1.,   1.]),\n",
        " array([  0.,   0.,   2.,   0.,   4.,   2.,   2.,   1.,   6.,   7.,  10.,\n",
        "          7.,   9.,  13.,   8.,   8.,  15.,  10.,  10.,   7.,  17.,   4.,\n",
        "          4.,   7.,   6.,  15.,   6.,   4.,   9.,  11.,   3.,   5.,   6.,\n",
        "          3.,   3.,   4.,   2.,   3.,   2.,   1.]),\n",
        " array([  0.,   1.,   1.,   3.,   3.,   1.,   3.,   5.,   2.,   4.,   4.,\n",
        "          7.,   6.,   5.,   3.,  10.,   8.,  10.,   6.,  17.,   9.,  14.,\n",
        "          9.,   7.,  13.,   9.,  12.,   6.,   7.,   7.,   9.,   6.,   3.,\n",
        "          2.,   2.,   4.,   2.,   0.,   1.,   1.]),\n",
        " array([  0.,   0.,   1.,   2.,   2.,   4.,   2.,   1.,   6.,   4.,   7.,\n",
        "          6.,   6.,   9.,   9.,  15.,   4.,  16.,  18.,  12.,  12.,   5.,\n",
        "         18.,   9.,   5.,   3.,  10.,   3.,  12.,   7.,   8.,   4.,   7.,\n",
        "          3.,   5.,   4.,   4.,   3.,   2.,   1.]),\n",
        " array([  0.,   0.,   2.,   2.,   4.,   2.,   2.,   5.,   5.,   8.,   6.,\n",
        "          5.,  11.,   9.,   4.,  13.,   5.,  12.,  10.,   6.,   9.,  17.,\n",
        "         15.,   8.,   9.,   3.,  13.,   7.,   8.,   2.,   8.,   8.,   4.,\n",
        "          2.,   3.,   5.,   4.,   1.,   1.,   1.]),\n",
        " array([  0.,   0.,   1.,   2.,   3.,   1.,   2.,   3.,   5.,   3.,   7.,\n",
        "          8.,   8.,   5.,  10.,   9.,  15.,  11.,  18.,  19.,  20.,   8.,\n",
        "          5.,  13.,  15.,  10.,   6.,  10.,   6.,   7.,   4.,   9.,   3.,\n",
        "          5.,   2.,   5.,   3.,   2.,   2.,   1.]),\n",
        " array([  0.,   0.,   0.,   3.,   1.,   5.,   6.,   5.,   5.,   8.,   2.,\n",
        "          4.,  11.,  12.,  10.,  11.,   9.,  10.,  17.,  11.,   6.,  16.,\n",
        "         12.,   6.,   8.,  14.,   6.,  13.,  10.,  11.,   4.,   6.,   4.,\n",
        "          7.,   6.,   3.,   2.,   1.,   0.,   0.]),\n",
        " array([  0.,   1.,   1.,   2.,   1.,   3.,   5.,   3.,   5.,   8.,   6.,\n",
        "          8.,  12.,   5.,  13.,   6.,  13.,   8.,  16.,   8.,  18.,  15.,\n",
        "         16.,  14.,  12.,   7.,   3.,   8.,   9.,  11.,   2.,   5.,   4.,\n",
        "          5.,   1.,   4.,   1.,   2.,   0.,   0.]),\n",
        " array([  0.,   1.,   0.,   0.,   4.,   3.,   3.,   5.,   5.,   4.,   5.,\n",
        "          8.,   7.,  10.,  13.,   3.,   7.,  13.,  15.,  18.,   8.,  15.,\n",
        "         15.,  16.,  11.,  14.,  12.,   4.,  10.,  10.,   4.,   3.,   4.,\n",
        "          5.,   5.,   3.,   3.,   2.,   2.,   1.]),\n",
        " array([  0.,   1.,   0.,   0.,   3.,   4.,   2.,   7.,   8.,   5.,   2.,\n",
        "          8.,  11.,   5.,   5.,   8.,  14.,  11.,   6.,  11.,   9.,  16.,\n",
        "         18.,   6.,  12.,   5.,   4.,   3.,   5.,   7.,   8.,   3.,   5.,\n",
        "          4.,   5.,   5.,   4.,   0.,   1.,   1.]),\n",
        " array([  0.,   0.,   2.,   1.,   4.,   3.,   6.,   4.,   6.,   7.,   9.,\n",
        "          9.,   3.,  11.,   6.,  12.,   4.,  17.,  13.,  15.,  13.,  12.,\n",
        "          8.,   7.,   4.,   7.,  12.,   9.,   5.,   6.,   5.,   4.,   7.,\n",
        "          3.,   5.,   4.,   2.,   3.,   0.,   1.]),\n",
        " array([  0.,   0.,   0.,   0.,   1.,   3.,   1.,   6.,   6.,   5.,   5.,\n",
        "          6.,   3.,   6.,  13.,   3.,  10.,  13.,   9.,  16.,  15.,   9.,\n",
        "         11.,   4.,   6.,   4.,  11.,  11.,  12.,   3.,   5.,   8.,   7.,\n",
        "          4.,   6.,   4.,   1.,   3.,   0.,   0.]),\n",
        " array([  0.,   1.,   2.,   1.,   1.,   1.,   4.,   1.,   5.,   2.,   3.,\n",
        "          3.,  10.,   7.,  13.,   5.,   7.,  17.,   6.,   9.,  12.,  13.,\n",
        "         10.,   4.,  12.,   4.,   6.,   7.,   6.,  10.,   8.,   2.,   5.,\n",
        "          1.,   3.,   4.,   2.,   0.,   2.,   0.]),\n",
        " array([  0.,   1.,   1.,   0.,   1.,   2.,   4.,   3.,   6.,   4.,   7.,\n",
        "          5.,   5.,   7.,   5.,  10.,   7.,   8.,  18.,  17.,   9.,   8.,\n",
        "         12.,  11.,  11.,  11.,  14.,   6.,  11.,   2.,  10.,   9.,   5.,\n",
        "          6.,   5.,   3.,   4.,   2.,   2.,   0.]),\n",
        " array([  0.,   0.,   0.,   0.,   2.,   3.,   6.,   5.,   7.,   4.,   3.,\n",
        "          2.,  10.,   7.,   9.,  11.,  12.,   5.,  12.,   9.,  13.,  19.,\n",
        "         14.,  17.,   5.,  13.,   8.,  11.,   5.,  10.,   9.,   8.,   7.,\n",
        "          5.,   3.,   1.,   4.,   0.,   2.,   1.]),\n",
        " array([  0.,   0.,   0.,   1.,   2.,   1.,   4.,   3.,   6.,   7.,   4.,\n",
        "          2.,  12.,   6.,  12.,   4.,  14.,   7.,   8.,  14.,  13.,  19.,\n",
        "          6.,   9.,  12.,   6.,   4.,  13.,   6.,   7.,   2.,   3.,   6.,\n",
        "          5.,   4.,   2.,   3.,   0.,   1.,   0.]),\n",
        " array([  0.,   0.,   2.,   1.,   2.,   5.,   4.,   2.,   7.,   8.,   4.,\n",
        "          7.,  11.,   9.,   8.,  11.,  15.,  17.,  11.,  12.,   7.,  12.,\n",
        "          7.,   6.,   7.,   4.,  13.,   5.,   7.,   6.,   6.,   9.,   2.,\n",
        "          1.,   1.,   2.,   2.,   0.,   1.,   0.]),\n",
        " array([  0.,   1.,   2.,   0.,   1.,   4.,   3.,   2.,   2.,   7.,   3.,\n",
        "          3.,  12.,  13.,  11.,  13.,   6.,   5.,   9.,  16.,   9.,  19.,\n",
        "         16.,  11.,   8.,   9.,  14.,  12.,  11.,   9.,   6.,   6.,   6.,\n",
        "          1.,   1.,   2.,   4.,   3.,   1.,   1.]),\n",
        " array([  0.,   1.,   1.,   3.,   1.,   4.,   4.,   1.,   8.,   2.,   2.,\n",
        "          3.,  12.,  12.,  10.,  15.,  13.,   6.,   5.,   5.,  18.,  19.,\n",
        "          9.,   6.,  11.,  12.,   7.,   6.,   3.,   6.,   3.,   2.,   4.,\n",
        "          3.,   1.,   5.,   4.,   2.,   2.,   0.]),\n",
        " array([  0.,   0.,   2.,   3.,   2.,   3.,   2.,   6.,   3.,   8.,   7.,\n",
        "          4.,   6.,   6.,   9.,   5.,  12.,  12.,   8.,   5.,  12.,  10.,\n",
        "         16.,   7.,  14.,  12.,   5.,   4.,   6.,   9.,   8.,   5.,   6.,\n",
        "          6.,   1.,   4.,   3.,   0.,   2.,   0.]),\n",
        " array([  0.,   0.,   0.,   3.,   4.,   5.,   1.,   7.,   7.,   8.,   2.,\n",
        "          5.,  12.,   4.,  10.,  14.,   5.,   5.,  17.,  13.,  16.,  15.,\n",
        "         13.,   6.,  12.,   9.,  10.,   3.,   3.,   7.,   4.,   4.,   8.,\n",
        "          2.,   6.,   5.,   1.,   0.,   1.,   0.]),\n",
        " array([  0.,   1.,   1.,   1.,   1.,   3.,   3.,   2.,   6.,   3.,   9.,\n",
        "          7.,   8.,   8.,   4.,  13.,   7.,  14.,  11.,  15.,  14.,  13.,\n",
        "          5.,  13.,   7.,  14.,   9.,  10.,   5.,  11.,   5.,   3.,   5.,\n",
        "          1.,   1.,   4.,   4.,   1.,   2.,   0.]),\n",
        " array([  0.,   1.,   1.,   1.,   2.,   3.,   5.,   3.,   6.,   3.,   7.,\n",
        "         10.,   3.,   8.,  12.,   4.,  12.,   9.,  15.,   5.,  17.,  16.,\n",
        "          5.,  10.,  10.,  15.,   7.,   5.,   3.,  11.,   5.,   5.,   6.,\n",
        "          1.,   1.,   1.,   1.,   0.,   2.,   1.]),\n",
        " array([  0.,   0.,   2.,   1.,   3.,   3.,   2.,   7.,   4.,   4.,   3.,\n",
        "          8.,  12.,   9.,  12.,   9.,   5.,  16.,   8.,  17.,   7.,  11.,\n",
        "         14.,   7.,  13.,  11.,   7.,  12.,  12.,   7.,   8.,   5.,   7.,\n",
        "          2.,   2.,   4.,   1.,   1.,   1.,   0.]),\n",
        " array([  0.,   0.,   1.,   2.,   4.,   2.,   2.,   3.,   5.,   7.,  10.,\n",
        "          5.,   5.,  12.,   3.,  13.,   4.,  13.,   7.,  15.,   9.,  12.,\n",
        "         18.,  14.,  16.,  12.,   3.,  11.,   3.,   2.,   7.,   4.,   8.,\n",
        "          2.,   2.,   1.,   3.,   0.,   1.,   1.]),\n",
        " array([  0.,   0.,   1.,   1.,   1.,   5.,   1.,   5.,   2.,   2.,   4.,\n",
        "         10.,   4.,   8.,  14.,   6.,  15.,   6.,  12.,  15.,  15.,  13.,\n",
        "          7.,  17.,   4.,   5.,  11.,   4.,   8.,   7.,   9.,   4.,   5.,\n",
        "          3.,   2.,   5.,   4.,   3.,   2.,   1.]),\n",
        " array([  0.,   0.,   2.,   2.,   3.,   4.,   6.,   3.,   7.,   6.,   4.,\n",
        "          5.,   8.,   4.,   7.,   7.,   6.,  11.,  12.,  19.,  20.,  18.,\n",
        "          9.,   5.,   4.,   7.,  14.,   8.,   4.,   3.,   7.,   7.,   8.,\n",
        "          3.,   5.,   4.,   1.,   3.,   1.,   0.]),\n",
        " array([  0.,   0.,   0.,   1.,   4.,   4.,   6.,   3.,   8.,   6.,   4.,\n",
        "         10.,  12.,   3.,   3.,   6.,   8.,   7.,  17.,  16.,  14.,  15.,\n",
        "         17.,   4.,  14.,  13.,   4.,   4.,  12.,  11.,   6.,   9.,   5.,\n",
        "          5.,   2.,   5.,   2.,   1.,   0.,   1.]),\n",
        " array([  0.,   1.,   1.,   0.,   3.,   2.,   4.,   6.,   8.,   6.,   2.,\n",
        "          3.,  11.,   3.,  14.,  14.,  12.,   8.,   8.,  16.,  13.,   7.,\n",
        "          6.,   9.,  15.,   7.,   6.,   4.,  10.,   8.,  10.,   4.,   2.,\n",
        "          6.,   5.,   5.,   2.,   3.,   2.,   1.]),\n",
        " array([  0.,   0.,   2.,   3.,   3.,   4.,   5.,   3.,   6.,   7.,  10.,\n",
        "          5.,  10.,  13.,  14.,   3.,   8.,  10.,   9.,   9.,  19.,  15.,\n",
        "         15.,   6.,   8.,   8.,  11.,   5.,   5.,   7.,   3.,   6.,   6.,\n",
        "          4.,   5.,   2.,   2.,   3.,   0.,   0.]),\n",
        " array([  0.,   1.,   2.,   2.,   2.,   3.,   6.,   6.,   6.,   7.,   6.,\n",
        "          3.,  11.,  12.,  13.,  15.,  15.,  10.,  14.,  11.,  11.,   8.,\n",
        "          6.,  12.,  10.,   5.,  12.,   7.,   7.,  11.,   5.,   8.,   5.,\n",
        "          2.,   5.,   5.,   2.,   0.,   2.,   1.]),\n",
        " array([  0.,   0.,   2.,   1.,   3.,   5.,   6.,   7.,   5.,   8.,   9.,\n",
        "          3.,  12.,  10.,  12.,   4.,  12.,   9.,  13.,  10.,  10.,   6.,\n",
        "         10.,  11.,   4.,  15.,  13.,   7.,   3.,   4.,   2.,   9.,   7.,\n",
        "          2.,   4.,   2.,   1.,   2.,   1.,   1.]),\n",
        " array([  0.,   0.,   1.,   2.,   4.,   1.,   5.,   5.,   2.,   3.,   4.,\n",
        "          8.,   8.,  12.,   5.,  15.,   9.,  17.,   7.,  19.,  14.,  18.,\n",
        "         12.,  17.,  14.,   4.,  13.,  13.,   8.,  11.,   5.,   6.,   6.,\n",
        "          2.,   3.,   5.,   2.,   1.,   1.,   1.]),\n",
        " array([  0.,   0.,   0.,   3.,   1.,   3.,   6.,   4.,   3.,   4.,   8.,\n",
        "          3.,   4.,   8.,   3.,  11.,   5.,   7.,  10.,   5.,  15.,   9.,\n",
        "         16.,  17.,  16.,   3.,   8.,   9.,   8.,   3.,   3.,   9.,   5.,\n",
        "          1.,   6.,   5.,   4.,   2.,   2.,   0.]),\n",
        " array([  0.,   1.,   2.,   2.,   2.,   5.,   5.,   1.,   4.,   6.,   3.,\n",
        "          6.,   5.,   9.,   6.,   7.,   4.,   7.,  16.,   7.,  16.,  13.,\n",
        "          9.,  16.,  12.,   6.,   7.,   9.,  10.,   3.,   6.,   4.,   5.,\n",
        "          4.,   6.,   3.,   4.,   3.,   2.,   1.]),\n",
        " array([  0.,   1.,   1.,   2.,   3.,   1.,   5.,   1.,   2.,   2.,   5.,\n",
        "          7.,   6.,   6.,   5.,  10.,   6.,   7.,  17.,  13.,  15.,  16.,\n",
        "         17.,  14.,   4.,   4.,  10.,  10.,  10.,  11.,   9.,   9.,   5.,\n",
        "          4.,   4.,   2.,   1.,   0.,   1.,   0.]),\n",
        " array([  0.,   1.,   0.,   3.,   2.,   4.,   1.,   1.,   5.,   9.,  10.,\n",
        "          7.,  12.,  10.,   9.,  15.,  12.,  13.,  13.,   6.,  19.,   9.,\n",
        "         10.,   6.,  13.,   5.,  13.,   6.,   7.,   2.,   5.,   5.,   2.,\n",
        "          1.,   1.,   1.,   1.,   3.,   0.,   1.]),\n",
        " array([  0.,   1.,   1.,   3.,   1.,   1.,   5.,   5.,   3.,   7.,   2.,\n",
        "          2.,   3.,  12.,   4.,   6.,   8.,  15.,  16.,  16.,  15.,   4.,\n",
        "         14.,   5.,  13.,  10.,   7.,  10.,   6.,   3.,   2.,   3.,   6.,\n",
        "          3.,   3.,   5.,   4.,   3.,   2.,   1.]),\n",
        " array([  0.,   0.,   0.,   2.,   2.,   1.,   3.,   4.,   5.,   5.,   6.,\n",
        "          5.,   5.,  12.,  13.,   5.,   7.,   5.,  11.,  15.,  18.,   7.,\n",
        "          9.,  10.,  14.,  12.,  11.,   9.,  10.,   3.,   2.,   9.,   6.,\n",
        "          2.,   2.,   5.,   3.,   0.,   0.,   1.]),\n",
        " array([  0.,   0.,   1.,   3.,   3.,   1.,   2.,   1.,   8.,   9.,   2.,\n",
        "          8.,  10.,   3.,   8.,   6.,  10.,  13.,  11.,  17.,  19.,   6.,\n",
        "          4.,  11.,   6.,  12.,   7.,   5.,   5.,   4.,   4.,   8.,   2.,\n",
        "          6.,   6.,   4.,   2.,   2.,   0.,   0.]),\n",
        " array([  0.,   1.,   1.,   3.,   4.,   5.,   2.,   1.,   3.,   7.,   9.,\n",
        "          6.,  10.,   5.,   8.,  15.,  11.,  12.,  15.,   6.,  12.,  16.,\n",
        "          6.,   4.,  14.,   3.,  12.,   9.,   6.,  11.,   5.,   8.,   5.,\n",
        "          5.,   6.,   1.,   2.,   1.,   2.,   0.]),\n",
        " array([  0.,   0.,   1.,   3.,   1.,   4.,   3.,   6.,   7.,   8.,   5.,\n",
        "          7.,  11.,   3.,   6.,  11.,   6.,  10.,   6.,  19.,  18.,  14.,\n",
        "          6.,  10.,   7.,   9.,   8.,   5.,   8.,   3.,  10.,   2.,   5.,\n",
        "          1.,   5.,   4.,   2.,   1.,   0.,   1.]),\n",
        " array([  0.,   1.,   1.,   3.,   3.,   4.,   4.,   6.,   3.,   4.,   9.,\n",
        "          9.,   7.,   6.,   8.,  15.,  12.,  15.,   6.,  11.,   6.,  18.,\n",
        "          5.,  14.,  15.,  12.,   9.,   8.,   3.,   6.,  10.,   6.,   8.,\n",
        "          7.,   2.,   5.,   4.,   3.,   1.,   1.]),\n",
        " array([  0.,   1.,   2.,   2.,   4.,   3.,   1.,   4.,   8.,   9.,   5.,\n",
        "         10.,  10.,   3.,   4.,   6.,   7.,  11.,  16.,   6.,  14.,   9.,\n",
        "         11.,  10.,  10.,   7.,  10.,   8.,   8.,   4.,   5.,   8.,   4.,\n",
        "          4.,   5.,   2.,   4.,   1.,   1.,   0.]),\n",
        " array([  0.,   0.,   2.,   3.,   4.,   5.,   4.,   6.,   2.,   9.,   7.,\n",
        "          4.,   9.,  10.,   8.,  11.,  16.,  12.,  15.,  17.,  19.,  10.,\n",
        "         18.,  13.,  15.,  11.,   8.,   4.,   7.,  11.,   6.,   7.,   6.,\n",
        "          5.,   1.,   3.,   1.,   0.,   0.,   0.]),\n",
        " array([  0.,   1.,   1.,   3.,   1.,   4.,   6.,   2.,   8.,   2.,  10.,\n",
        "          3.,  11.,   9.,  13.,  15.,   5.,  15.,   6.,  10.,  10.,   5.,\n",
        "         14.,  15.,  12.,   7.,   4.,   5.,  11.,   4.,   6.,   9.,   5.,\n",
        "          6.,   1.,   1.,   2.,   1.,   2.,   1.]),\n",
        " array([  0.,   0.,   1.,   3.,   2.,   5.,   1.,   2.,   7.,   6.,   6.,\n",
        "          3.,  12.,   9.,   4.,  14.,   4.,   6.,  12.,   9.,  12.,   7.,\n",
        "         11.,   7.,  16.,   8.,  13.,   6.,   7.,   6.,  10.,   7.,   6.,\n",
        "          3.,   1.,   5.,   4.,   3.,   0.,   0.]),\n",
        " array([  0.,   0.,   1.,   2.,   3.,   4.,   5.,   7.,   5.,   4.,  10.,\n",
        "          5.,  12.,  12.,   5.,   4.,   7.,   9.,  18.,  16.,  16.,  10.,\n",
        "         15.,  15.,  10.,   4.,   3.,   7.,   5.,   9.,   4.,   6.,   2.,\n",
        "          4.,   1.,   4.,   2.,   2.,   2.,   1.]),\n",
        " array([  0.,   1.,   2.,   1.,   1.,   3.,   5.,   3.,   6.,   3.,  10.,\n",
        "         10.,  11.,  10.,  13.,  10.,  13.,   6.,   6.,  14.,   5.,   4.,\n",
        "          5.,   5.,   9.,   4.,  12.,   7.,   7.,   4.,   7.,   9.,   3.,\n",
        "          3.,   6.,   3.,   4.,   1.,   2.,   0.]),\n",
        " array([  0.,   1.,   2.,   2.,   3.,   5.,   2.,   4.,   5.,   6.,   8.,\n",
        "          3.,   5.,   4.,   3.,  15.,  15.,  12.,  16.,   7.,  20.,  15.,\n",
        "         12.,   8.,   9.,   6.,  12.,   5.,   8.,   3.,   8.,   5.,   4.,\n",
        "          1.,   3.,   2.,   1.,   3.,   1.,   0.]),\n",
        " array([  0.,   0.,   0.,   2.,   4.,   4.,   5.,   3.,   3.,   3.,  10.,\n",
        "          4.,   4.,   4.,  14.,  11.,  15.,  13.,  10.,  14.,  11.,  17.,\n",
        "          9.,  11.,  11.,   7.,  10.,  12.,  10.,  10.,  10.,   8.,   7.,\n",
        "          5.,   2.,   2.,   4.,   1.,   2.,   1.]),\n",
        " array([  0.,   0.,   2.,   1.,   1.,   4.,   4.,   7.,   2.,   9.,   4.,\n",
        "         10.,  12.,   7.,   6.,   6.,  11.,  12.,   9.,  15.,  15.,   6.,\n",
        "          6.,  13.,   5.,  12.,   9.,   6.,   4.,   7.,   7.,   6.,   5.,\n",
        "          4.,   1.,   4.,   2.,   2.,   2.,   1.]),\n",
        " array([  0.,   1.,   2.,   1.,   1.,   4.,   5.,   4.,   4.,   5.,   9.,\n",
        "          7.,  10.,   3.,  13.,  13.,   8.,   9.,  17.,  16.,  16.,  15.,\n",
        "         12.,  13.,   5.,  12.,  10.,   9.,  11.,   9.,   4.,   5.,   5.,\n",
        "          2.,   2.,   5.,   1.,   0.,   0.,   1.]),\n",
        " array([  0.,   0.,   1.,   3.,   2.,   3.,   6.,   4.,   5.,   7.,   2.,\n",
        "          4.,  11.,  11.,   3.,   8.,   8.,  16.,   5.,  13.,  16.,   5.,\n",
        "          8.,   8.,   6.,   9.,  10.,  10.,   9.,   3.,   3.,   5.,   3.,\n",
        "          5.,   4.,   5.,   3.,   3.,   0.,   1.]),\n",
        " array([  0.,   1.,   1.,   2.,   2.,   5.,   1.,   7.,   4.,   2.,   5.,\n",
        "          5.,   4.,   6.,   6.,   4.,  16.,  11.,  14.,  16.,  14.,  14.,\n",
        "          8.,  17.,   4.,  14.,  13.,   7.,   6.,   3.,   7.,   7.,   5.,\n",
        "          6.,   3.,   4.,   2.,   2.,   1.,   1.]),\n",
        " array([  0.,   1.,   1.,   1.,   4.,   1.,   6.,   4.,   6.,   3.,   6.,\n",
        "          5.,   6.,   4.,  14.,  13.,  13.,   9.,  12.,  19.,   9.,  10.,\n",
        "         15.,  10.,   9.,  10.,  10.,   7.,   5.,   6.,   8.,   6.,   6.,\n",
        "          4.,   3.,   5.,   2.,   1.,   1.,   1.]),\n",
        " array([  0.,   0.,   0.,   1.,   4.,   5.,   6.,   3.,   8.,   7.,   9.,\n",
        "         10.,   8.,   6.,   5.,  12.,  15.,   5.,  10.,   5.,   8.,  13.,\n",
        "         18.,  17.,  14.,   9.,  13.,   4.,  10.,  11.,  10.,   8.,   8.,\n",
        "          6.,   5.,   5.,   2.,   0.,   2.,   0.]),\n",
        " array([  0.,   0.,   1.,   0.,   3.,   2.,   5.,   4.,   8.,   2.,   9.,\n",
        "          3.,   3.,  10.,  12.,   9.,  14.,  11.,  13.,   8.,   6.,  18.,\n",
        "         11.,   9.,  13.,  11.,   8.,   5.,   5.,   2.,   8.,   5.,   3.,\n",
        "          5.,   4.,   1.,   3.,   1.,   1.,   0.])]"
       ]
      }
     ],
     "prompt_number": 58
    },
    {
     "cell_type": "code",
     "collapsed": false,
     "input": [
      "ave_inflammation = data.mean(axis=0)"
     ],
     "language": "python",
     "metadata": {},
     "outputs": [],
     "prompt_number": 59
    },
    {
     "cell_type": "code",
     "collapsed": false,
     "input": [
      "ave_inflammation"
     ],
     "language": "python",
     "metadata": {},
     "outputs": [
      {
       "metadata": {},
       "output_type": "pyout",
       "prompt_number": 60,
       "text": [
        "array([  0.        ,   0.45      ,   1.11666667,   1.75      ,\n",
        "         2.43333333,   3.15      ,   3.8       ,   3.88333333,\n",
        "         5.23333333,   5.51666667,   5.95      ,   5.9       ,\n",
        "         8.35      ,   7.73333333,   8.36666667,   9.5       ,\n",
        "         9.58333333,  10.63333333,  11.56666667,  12.35      ,\n",
        "        13.25      ,  11.96666667,  11.03333333,  10.16666667,\n",
        "        10.        ,   8.66666667,   9.15      ,   7.25      ,\n",
        "         7.33333333,   6.58333333,   6.06666667,   5.95      ,\n",
        "         5.11666667,   3.6       ,   3.3       ,   3.56666667,\n",
        "         2.48333333,   1.5       ,   1.13333333,   0.56666667])"
       ]
      }
     ],
     "prompt_number": 60
    },
    {
     "cell_type": "code",
     "collapsed": false,
     "input": [
      "ave_inflammation.shape"
     ],
     "language": "python",
     "metadata": {},
     "outputs": [
      {
       "metadata": {},
       "output_type": "pyout",
       "prompt_number": 61,
       "text": [
        "(40,)"
       ]
      }
     ],
     "prompt_number": 61
    },
    {
     "cell_type": "code",
     "collapsed": false,
     "input": [
      "ave_plot = matplotlib.pyplot.plot(ave_inflammation)"
     ],
     "language": "python",
     "metadata": {},
     "outputs": [
      {
       "metadata": {},
       "output_type": "display_data",
       "png": "[encoded data removed]",
       "text": [
        "<matplotlib.figure.Figure at 0x1062ef850>"
       ]
      }
     ],
     "prompt_number": 62
    },
    {
     "cell_type": "code",
     "collapsed": false,
     "input": [
      "max_plot = matplotlib.pyplot.plot(data.max(axis=0))"
     ],
     "language": "python",
     "metadata": {},
     "outputs": [
      {
       "metadata": {},
       "output_type": "display_data",
       "png": "[encoded data removed]",
       "text": [
        "<matplotlib.figure.Figure at 0x1068a9ed0>"
       ]
      }
     ],
     "prompt_number": 63
    },
    {
     "cell_type": "code",
     "collapsed": false,
     "input": [
      "data.max()"
     ],
     "language": "python",
     "metadata": {},
     "outputs": [
      {
       "metadata": {},
       "output_type": "pyout",
       "prompt_number": 64,
       "text": [
        "20.0"
       ]
      }
     ],
     "prompt_number": 64
    },
    {
     "cell_type": "code",
     "collapsed": false,
     "input": [
      "data[1].max()"
     ],
     "language": "python",
     "metadata": {},
     "outputs": [
      {
       "metadata": {},
       "output_type": "pyout",
       "prompt_number": 65,
       "text": [
        "18.0"
       ]
      }
     ],
     "prompt_number": 65
    },
    {
     "cell_type": "code",
     "collapsed": false,
     "input": [
      "min_plot = matplotlib.pyplot.plot(data.min(axis=0))"
     ],
     "language": "python",
     "metadata": {},
     "outputs": [
      {
       "metadata": {},
       "output_type": "display_data",
       "png": "[encoded data removed]",
       "text": [
        "<matplotlib.figure.Figure at 0x1069f3050>"
       ]
      }
     ],
     "prompt_number": 66
    },
    {
     "cell_type": "code",
     "collapsed": false,
     "input": [
      "import numpy\n",
      "import matplotlib.pyplot\n",
      "\n",
      "data = numpy.loadtxt(fname='data/inflammation-01.csv',delimiter=',')\n",
      "\n",
      "# set up graphing space\n",
      "fig = matplotlib.pyplot.figure(figsize=(10.0,3.0))\n",
      "\n",
      "# position separate graphs\n",
      "axes1 = fig.add_subplot(1,3,1)\n",
      "axes2 = fig.add_subplot(1,3,2)\n",
      "axes3 = fig.add_subplot(1,3,3)\n",
      "\n",
      "# set y axis labels and tell it what to plot\n",
      "axes1.set_ylabel('average')\n",
      "axes1.plot(data.mean(axis=0))\n",
      "\n",
      "axes2.set_ylabel('max')\n",
      "axes2.plot(data.max(axis=0))\n",
      "\n",
      "axes3.set_ylabel('min')\n",
      "axes3.plot(data.min(axis=0))\n",
      "\n",
      "fig.tight_layout()\n",
      "\n",
      "matplotlib.pyplot.show()\n",
      "\n"
     ],
     "language": "python",
     "metadata": {},
     "outputs": [
      {
       "metadata": {},
       "output_type": "display_data",
       "png": "[encoded data removed]",
       "text": [
        "<matplotlib.figure.Figure at 0x106b0ca50>"
       ]
      }
     ],
     "prompt_number": 67
    },
    {
     "cell_type": "code",
     "collapsed": false,
     "input": [
      "word"
     ],
     "language": "python",
     "metadata": {},
     "outputs": [
      {
       "metadata": {},
       "output_type": "pyout",
       "prompt_number": 68,
       "text": [
        "'AGTC'"
       ]
      }
     ],
     "prompt_number": 68
    },
    {
     "cell_type": "code",
     "collapsed": false,
     "input": [
      "superword=word*10"
     ],
     "language": "python",
     "metadata": {},
     "outputs": [],
     "prompt_number": 69
    },
    {
     "cell_type": "code",
     "collapsed": false,
     "input": [
      "superword"
     ],
     "language": "python",
     "metadata": {},
     "outputs": [
      {
       "metadata": {},
       "output_type": "pyout",
       "prompt_number": 70,
       "text": [
        "'AGTCAGTCAGTCAGTCAGTCAGTCAGTCAGTCAGTCAGTC'"
       ]
      }
     ],
     "prompt_number": 70
    },
    {
     "cell_type": "code",
     "collapsed": false,
     "input": [
      "superword[0]"
     ],
     "language": "python",
     "metadata": {},
     "outputs": [
      {
       "metadata": {},
       "output_type": "pyout",
       "prompt_number": 71,
       "text": [
        "'A'"
       ]
      }
     ],
     "prompt_number": 71
    },
    {
     "cell_type": "code",
     "collapsed": false,
     "input": [
      "superword[1]"
     ],
     "language": "python",
     "metadata": {},
     "outputs": [
      {
       "metadata": {},
       "output_type": "pyout",
       "prompt_number": 72,
       "text": [
        "'G'"
       ]
      }
     ],
     "prompt_number": 72
    },
    {
     "cell_type": "code",
     "collapsed": false,
     "input": [
      "superword[2]"
     ],
     "language": "python",
     "metadata": {},
     "outputs": [
      {
       "metadata": {},
       "output_type": "pyout",
       "prompt_number": 73,
       "text": [
        "'T'"
       ]
      }
     ],
     "prompt_number": 73
    },
    {
     "cell_type": "code",
     "collapsed": false,
     "input": [
      "for i in superword:\n",
      "    # in python 3:\n",
      "    #print(letter)\n",
      "    # in python 2:\n",
      "    print i"
     ],
     "language": "python",
     "metadata": {},
     "outputs": [
      {
       "output_type": "stream",
       "stream": "stdout",
       "text": [
        "A\n",
        "G\n",
        "T\n",
        "C\n",
        "A\n",
        "G\n",
        "T\n",
        "C\n",
        "A\n",
        "G\n",
        "T\n",
        "C\n",
        "A\n",
        "G\n",
        "T\n",
        "C\n",
        "A\n",
        "G\n",
        "T\n",
        "C\n",
        "A\n",
        "G\n",
        "T\n",
        "C\n",
        "A\n",
        "G\n",
        "T\n",
        "C\n",
        "A\n",
        "G\n",
        "T\n",
        "C\n",
        "A\n",
        "G\n",
        "T\n",
        "C\n",
        "A\n",
        "G\n",
        "T\n",
        "C\n"
       ]
      }
     ],
     "prompt_number": 75
    },
    {
     "cell_type": "code",
     "collapsed": false,
     "input": [
      "range(5)"
     ],
     "language": "python",
     "metadata": {},
     "outputs": [
      {
       "metadata": {},
       "output_type": "pyout",
       "prompt_number": 76,
       "text": [
        "[0, 1, 2, 3, 4]"
       ]
      }
     ],
     "prompt_number": 76
    },
    {
     "cell_type": "code",
     "collapsed": false,
     "input": [
      "print(range(5))"
     ],
     "language": "python",
     "metadata": {},
     "outputs": [
      {
       "output_type": "stream",
       "stream": "stdout",
       "text": [
        "[0, 1, 2, 3, 4]\n"
       ]
      }
     ],
     "prompt_number": 77
    },
    {
     "cell_type": "code",
     "collapsed": false,
     "input": [
      "for letter in superword:\n",
      "    print letter"
     ],
     "language": "python",
     "metadata": {},
     "outputs": [
      {
       "output_type": "stream",
       "stream": "stdout",
       "text": [
        "A\n",
        "G\n",
        "T\n",
        "C\n",
        "A\n",
        "G\n",
        "T\n",
        "C\n",
        "A\n",
        "G\n",
        "T\n",
        "C\n",
        "A\n",
        "G\n",
        "T\n",
        "C\n",
        "A\n",
        "G\n",
        "T\n",
        "C\n",
        "A\n",
        "G\n",
        "T\n",
        "C\n",
        "A\n",
        "G\n",
        "T\n",
        "C\n",
        "A\n",
        "G\n",
        "T\n",
        "C\n",
        "A\n",
        "G\n",
        "T\n",
        "C\n",
        "A\n",
        "G\n",
        "T\n",
        "C\n"
       ]
      }
     ],
     "prompt_number": 78
    },
    {
     "cell_type": "code",
     "collapsed": false,
     "input": [
      "for letter in word:\n",
      "    print letter"
     ],
     "language": "python",
     "metadata": {},
     "outputs": [
      {
       "output_type": "stream",
       "stream": "stdout",
       "text": [
        "A\n",
        "G\n",
        "T\n",
        "C\n"
       ]
      }
     ],
     "prompt_number": 79
    },
    {
     "cell_type": "code",
     "collapsed": false,
     "input": [
      "letter"
     ],
     "language": "python",
     "metadata": {},
     "outputs": [
      {
       "metadata": {},
       "output_type": "pyout",
       "prompt_number": 80,
       "text": [
        "'C'"
       ]
      }
     ],
     "prompt_number": 80
    },
    {
     "cell_type": "code",
     "collapsed": false,
     "input": [
      "for letter in len(word):\n",
      "        print letter"
     ],
     "language": "python",
     "metadata": {},
     "outputs": [
      {
       "ename": "TypeError",
       "evalue": "'int' object is not iterable",
       "output_type": "pyerr",
       "traceback": [
        "\u001b[0;31m---------------------------------------------------------------------------\u001b[0m\n\u001b[0;31mTypeError\u001b[0m                                 Traceback (most recent call last)",
        "\u001b[0;32m<ipython-input-82-d77e6ce461e7>\u001b[0m in \u001b[0;36m<module>\u001b[0;34m()\u001b[0m\n\u001b[0;32m----> 1\u001b[0;31m \u001b[0;32mfor\u001b[0m \u001b[0mletter\u001b[0m \u001b[0;32min\u001b[0m \u001b[0mlen\u001b[0m\u001b[0;34m(\u001b[0m\u001b[0mword\u001b[0m\u001b[0;34m)\u001b[0m\u001b[0;34m:\u001b[0m\u001b[0;34m\u001b[0m\u001b[0m\n\u001b[0m\u001b[1;32m      2\u001b[0m         \u001b[0;32mprint\u001b[0m \u001b[0mletter\u001b[0m\u001b[0;34m\u001b[0m\u001b[0m\n",
        "\u001b[0;31mTypeError\u001b[0m: 'int' object is not iterable"
       ]
      }
     ],
     "prompt_number": 82
    },
    {
     "cell_type": "code",
     "collapsed": false,
     "input": [
      "len(word)"
     ],
     "language": "python",
     "metadata": {},
     "outputs": [
      {
       "metadata": {},
       "output_type": "pyout",
       "prompt_number": 83,
       "text": [
        "4"
       ]
      }
     ],
     "prompt_number": 83
    },
    {
     "cell_type": "code",
     "collapsed": false,
     "input": [
      "for i in len(word):\n",
      "    print i"
     ],
     "language": "python",
     "metadata": {},
     "outputs": [
      {
       "ename": "TypeError",
       "evalue": "'int' object is not iterable",
       "output_type": "pyerr",
       "traceback": [
        "\u001b[0;31m---------------------------------------------------------------------------\u001b[0m\n\u001b[0;31mTypeError\u001b[0m                                 Traceback (most recent call last)",
        "\u001b[0;32m<ipython-input-84-ecc719f58ff6>\u001b[0m in \u001b[0;36m<module>\u001b[0;34m()\u001b[0m\n\u001b[0;32m----> 1\u001b[0;31m \u001b[0;32mfor\u001b[0m \u001b[0mi\u001b[0m \u001b[0;32min\u001b[0m \u001b[0mlen\u001b[0m\u001b[0;34m(\u001b[0m\u001b[0mword\u001b[0m\u001b[0;34m)\u001b[0m\u001b[0;34m:\u001b[0m\u001b[0;34m\u001b[0m\u001b[0m\n\u001b[0m\u001b[1;32m      2\u001b[0m     \u001b[0;32mprint\u001b[0m \u001b[0mi\u001b[0m\u001b[0;34m\u001b[0m\u001b[0m\n",
        "\u001b[0;31mTypeError\u001b[0m: 'int' object is not iterable"
       ]
      }
     ],
     "prompt_number": 84
    },
    {
     "cell_type": "code",
     "collapsed": false,
     "input": [
      "for i in range(len(word)):\n",
      "    print i"
     ],
     "language": "python",
     "metadata": {},
     "outputs": [
      {
       "output_type": "stream",
       "stream": "stdout",
       "text": [
        "0\n",
        "1\n",
        "2\n",
        "3\n"
       ]
      }
     ],
     "prompt_number": 85
    },
    {
     "cell_type": "code",
     "collapsed": false,
     "input": [
      "for letter in range(len(word)):\n",
      "    print word[letter]"
     ],
     "language": "python",
     "metadata": {},
     "outputs": [
      {
       "output_type": "stream",
       "stream": "stdout",
       "text": [
        "A\n",
        "G\n",
        "T\n",
        "C\n"
       ]
      }
     ],
     "prompt_number": 87
    },
    {
     "cell_type": "code",
     "collapsed": false,
     "input": [
      "for letter in range(len(word)):\n",
      "    print word[letter]\n",
      "\n",
      "    \n",
      "for letter in word:\n",
      "    print(letter)"
     ],
     "language": "python",
     "metadata": {},
     "outputs": [
      {
       "output_type": "stream",
       "stream": "stdout",
       "text": [
        "A\n",
        "G\n",
        "T\n",
        "C\n",
        "A\n",
        "G\n",
        "T\n",
        "C\n"
       ]
      }
     ],
     "prompt_number": 88
    },
    {
     "cell_type": "code",
     "collapsed": false,
     "input": [
      "for letter in range(len(word)):\n",
      "    print \"The index is\",letter\n",
      "    print \"The letter at this index is\", word[letter]"
     ],
     "language": "python",
     "metadata": {},
     "outputs": [
      {
       "output_type": "stream",
       "stream": "stdout",
       "text": [
        "The index is 0\n",
        "The letter at this index is A\n",
        "The index is 1\n",
        "The letter at this index is G\n",
        "The index is 2\n",
        "The letter at this index is T\n",
        "The index is 3\n",
        "The letter at this index is C\n"
       ]
      }
     ],
     "prompt_number": 89
    },
    {
     "cell_type": "code",
     "collapsed": false,
     "input": [
      "word.count('A')"
     ],
     "language": "python",
     "metadata": {},
     "outputs": [
      {
       "metadata": {},
       "output_type": "pyout",
       "prompt_number": 90,
       "text": [
        "1"
       ]
      }
     ],
     "prompt_number": 90
    },
    {
     "cell_type": "code",
     "collapsed": false,
     "input": [
      "superword.count('A')"
     ],
     "language": "python",
     "metadata": {},
     "outputs": [
      {
       "metadata": {},
       "output_type": "pyout",
       "prompt_number": 91,
       "text": [
        "10"
       ]
      }
     ],
     "prompt_number": 91
    },
    {
     "cell_type": "code",
     "collapsed": false,
     "input": [
      "superword"
     ],
     "language": "python",
     "metadata": {},
     "outputs": [
      {
       "metadata": {},
       "output_type": "pyout",
       "prompt_number": 92,
       "text": [
        "'AGTCAGTCAGTCAGTCAGTCAGTCAGTCAGTCAGTCAGTC'"
       ]
      }
     ],
     "prompt_number": 92
    },
    {
     "cell_type": "code",
     "collapsed": false,
     "input": [
      "superword.count('G')"
     ],
     "language": "python",
     "metadata": {},
     "outputs": [
      {
       "metadata": {},
       "output_type": "pyout",
       "prompt_number": 93,
       "text": [
        "10"
       ]
      }
     ],
     "prompt_number": 93
    },
    {
     "cell_type": "code",
     "collapsed": false,
     "input": [
      "sequences = [superword,word,superword*2]"
     ],
     "language": "python",
     "metadata": {},
     "outputs": [],
     "prompt_number": 94
    },
    {
     "cell_type": "code",
     "collapsed": false,
     "input": [
      "sequences"
     ],
     "language": "python",
     "metadata": {},
     "outputs": [
      {
       "metadata": {},
       "output_type": "pyout",
       "prompt_number": 95,
       "text": [
        "['AGTCAGTCAGTCAGTCAGTCAGTCAGTCAGTCAGTCAGTC',\n",
        " 'AGTC',\n",
        " 'AGTCAGTCAGTCAGTCAGTCAGTCAGTCAGTCAGTCAGTCAGTCAGTCAGTCAGTCAGTCAGTCAGTCAGTCAGTCAGTC']"
       ]
      }
     ],
     "prompt_number": 95
    },
    {
     "cell_type": "code",
     "collapsed": false,
     "input": [
      "for seq in sequences:\n",
      "    print seq"
     ],
     "language": "python",
     "metadata": {},
     "outputs": [
      {
       "output_type": "stream",
       "stream": "stdout",
       "text": [
        "AGTCAGTCAGTCAGTCAGTCAGTCAGTCAGTCAGTCAGTC\n",
        "AGTC\n",
        "AGTCAGTCAGTCAGTCAGTCAGTCAGTCAGTCAGTCAGTCAGTCAGTCAGTCAGTCAGTCAGTCAGTCAGTCAGTCAGTC\n"
       ]
      }
     ],
     "prompt_number": 96
    },
    {
     "cell_type": "code",
     "collapsed": false,
     "input": [
      "for seq in sequences:\n",
      "    print \"The number of As in seq is \", seq.count('A')\n",
      "    print \"The number of Cs in seq is \", seq.count('C')\n",
      "    print \"The number of Gs in seq is \", seq.count('G')\n",
      "    print \"The number of Ts in seq is \", seq.count('T')\n",
      "    print \"The GC content is\",(seq.count('C')+seq.count('G'))/float(len(seq))\n",
      "    "
     ],
     "language": "python",
     "metadata": {},
     "outputs": [
      {
       "output_type": "stream",
       "stream": "stdout",
       "text": [
        "The number of As in seq is  10\n",
        "The number of Cs in seq is  10\n",
        "The number of Gs in seq is  10\n",
        "The number of Ts in seq is  10\n",
        "The GC content is 0.5\n",
        "The number of As in seq is  1\n",
        "The number of Cs in seq is  1\n",
        "The number of Gs in seq is  1\n",
        "The number of Ts in seq is  1\n",
        "The GC content is 0.5\n",
        "The number of As in seq is  20\n",
        "The number of Cs in seq is  20\n",
        "The number of Gs in seq is  20\n",
        "The number of Ts in seq is  20\n",
        "The GC content is 0.5\n"
       ]
      }
     ],
     "prompt_number": 100
    },
    {
     "cell_type": "code",
     "collapsed": false,
     "input": [
      "type(sequences)"
     ],
     "language": "python",
     "metadata": {},
     "outputs": [
      {
       "metadata": {},
       "output_type": "pyout",
       "prompt_number": 101,
       "text": [
        "list"
       ]
      }
     ],
     "prompt_number": 101
    },
    {
     "cell_type": "code",
     "collapsed": false,
     "input": [
      "nonsense=[]"
     ],
     "language": "python",
     "metadata": {},
     "outputs": [],
     "prompt_number": 102
    },
    {
     "cell_type": "code",
     "collapsed": false,
     "input": [
      "nonsense"
     ],
     "language": "python",
     "metadata": {},
     "outputs": [
      {
       "metadata": {},
       "output_type": "pyout",
       "prompt_number": 103,
       "text": [
        "[]"
       ]
      }
     ],
     "prompt_number": 103
    },
    {
     "cell_type": "code",
     "collapsed": false,
     "input": [
      "type(nonsense)"
     ],
     "language": "python",
     "metadata": {},
     "outputs": [
      {
       "metadata": {},
       "output_type": "pyout",
       "prompt_number": 104,
       "text": [
        "list"
       ]
      }
     ],
     "prompt_number": 104
    },
    {
     "cell_type": "code",
     "collapsed": false,
     "input": [
      "nonsense.append('This is my first list addition')"
     ],
     "language": "python",
     "metadata": {},
     "outputs": [],
     "prompt_number": 105
    },
    {
     "cell_type": "code",
     "collapsed": false,
     "input": [
      "nonsense"
     ],
     "language": "python",
     "metadata": {},
     "outputs": [
      {
       "metadata": {},
       "output_type": "pyout",
       "prompt_number": 106,
       "text": [
        "['This is my first list addition']"
       ]
      }
     ],
     "prompt_number": 106
    },
    {
     "cell_type": "code",
     "collapsed": false,
     "input": [
      "nonsense.append(5)"
     ],
     "language": "python",
     "metadata": {},
     "outputs": [],
     "prompt_number": 108
    },
    {
     "cell_type": "code",
     "collapsed": false,
     "input": [
      "nonsense"
     ],
     "language": "python",
     "metadata": {},
     "outputs": [
      {
       "metadata": {},
       "output_type": "pyout",
       "prompt_number": 109,
       "text": [
        "['This is my first list addition', 5]"
       ]
      }
     ],
     "prompt_number": 109
    },
    {
     "cell_type": "code",
     "collapsed": false,
     "input": [
      "type(nonsense)"
     ],
     "language": "python",
     "metadata": {},
     "outputs": [
      {
       "metadata": {},
       "output_type": "pyout",
       "prompt_number": 110,
       "text": [
        "list"
       ]
      }
     ],
     "prompt_number": 110
    },
    {
     "cell_type": "code",
     "collapsed": false,
     "input": [
      "len(nonsense)"
     ],
     "language": "python",
     "metadata": {},
     "outputs": [
      {
       "metadata": {},
       "output_type": "pyout",
       "prompt_number": 111,
       "text": [
        "2"
       ]
      }
     ],
     "prompt_number": 111
    },
    {
     "cell_type": "code",
     "collapsed": false,
     "input": [
      "nonsense[1]"
     ],
     "language": "python",
     "metadata": {},
     "outputs": [
      {
       "metadata": {},
       "output_type": "pyout",
       "prompt_number": 112,
       "text": [
        "5"
       ]
      }
     ],
     "prompt_number": 112
    },
    {
     "cell_type": "code",
     "collapsed": false,
     "input": [
      "nonsense.append(sequences)"
     ],
     "language": "python",
     "metadata": {},
     "outputs": [],
     "prompt_number": 113
    },
    {
     "cell_type": "code",
     "collapsed": false,
     "input": [
      "nonsense"
     ],
     "language": "python",
     "metadata": {},
     "outputs": [
      {
       "metadata": {},
       "output_type": "pyout",
       "prompt_number": 114,
       "text": [
        "['This is my first list addition',\n",
        " 5,\n",
        " ['AGTCAGTCAGTCAGTCAGTCAGTCAGTCAGTCAGTCAGTC',\n",
        "  'AGTC',\n",
        "  'AGTCAGTCAGTCAGTCAGTCAGTCAGTCAGTCAGTCAGTCAGTCAGTCAGTCAGTCAGTCAGTCAGTCAGTCAGTCAGTC']]"
       ]
      }
     ],
     "prompt_number": 114
    },
    {
     "cell_type": "code",
     "collapsed": false,
     "input": [
      "len(nonsense)"
     ],
     "language": "python",
     "metadata": {},
     "outputs": [
      {
       "metadata": {},
       "output_type": "pyout",
       "prompt_number": 115,
       "text": [
        "3"
       ]
      }
     ],
     "prompt_number": 115
    },
    {
     "cell_type": "code",
     "collapsed": false,
     "input": [
      "nonsense[-1]"
     ],
     "language": "python",
     "metadata": {},
     "outputs": [
      {
       "metadata": {},
       "output_type": "pyout",
       "prompt_number": 116,
       "text": [
        "['AGTCAGTCAGTCAGTCAGTCAGTCAGTCAGTCAGTCAGTC',\n",
        " 'AGTC',\n",
        " 'AGTCAGTCAGTCAGTCAGTCAGTCAGTCAGTCAGTCAGTCAGTCAGTCAGTCAGTCAGTCAGTCAGTCAGTCAGTCAGTC']"
       ]
      }
     ],
     "prompt_number": 116
    },
    {
     "cell_type": "code",
     "collapsed": false,
     "input": [
      "nonsense[-1][0]"
     ],
     "language": "python",
     "metadata": {},
     "outputs": [
      {
       "metadata": {},
       "output_type": "pyout",
       "prompt_number": 117,
       "text": [
        "'AGTCAGTCAGTCAGTCAGTCAGTCAGTCAGTCAGTCAGTC'"
       ]
      }
     ],
     "prompt_number": 117
    },
    {
     "cell_type": "code",
     "collapsed": false,
     "input": [
      "nonsense[-1][1]"
     ],
     "language": "python",
     "metadata": {},
     "outputs": [
      {
       "metadata": {},
       "output_type": "pyout",
       "prompt_number": 118,
       "text": [
        "'AGTC'"
       ]
      }
     ],
     "prompt_number": 118
    },
    {
     "cell_type": "code",
     "collapsed": false,
     "input": [
      "nonsense[-1][1][0]"
     ],
     "language": "python",
     "metadata": {},
     "outputs": [
      {
       "metadata": {},
       "output_type": "pyout",
       "prompt_number": 119,
       "text": [
        "'A'"
       ]
      }
     ],
     "prompt_number": 119
    },
    {
     "cell_type": "code",
     "collapsed": false,
     "input": [
      "nonsense"
     ],
     "language": "python",
     "metadata": {},
     "outputs": [
      {
       "metadata": {},
       "output_type": "pyout",
       "prompt_number": 120,
       "text": [
        "['This is my first list addition',\n",
        " 5,\n",
        " ['AGTCAGTCAGTCAGTCAGTCAGTCAGTCAGTCAGTCAGTC',\n",
        "  'AGTC',\n",
        "  'AGTCAGTCAGTCAGTCAGTCAGTCAGTCAGTCAGTCAGTCAGTCAGTCAGTCAGTCAGTCAGTCAGTCAGTCAGTCAGTC']]"
       ]
      }
     ],
     "prompt_number": 120
    },
    {
     "cell_type": "code",
     "collapsed": false,
     "input": [
      "len(nonsense)"
     ],
     "language": "python",
     "metadata": {},
     "outputs": [
      {
       "metadata": {},
       "output_type": "pyout",
       "prompt_number": 121,
       "text": [
        "3"
       ]
      }
     ],
     "prompt_number": 121
    },
    {
     "cell_type": "code",
     "collapsed": false,
     "input": [
      "newword = ['h','e','l','l','o','!']"
     ],
     "language": "python",
     "metadata": {},
     "outputs": [],
     "prompt_number": 122
    },
    {
     "cell_type": "code",
     "collapsed": false,
     "input": [
      "print newword"
     ],
     "language": "python",
     "metadata": {},
     "outputs": [
      {
       "output_type": "stream",
       "stream": "stdout",
       "text": [
        "['h', 'e', 'l', 'l', 'o', '!']\n"
       ]
      }
     ],
     "prompt_number": 123
    },
    {
     "cell_type": "code",
     "collapsed": false,
     "input": [
      "newword.append('!')"
     ],
     "language": "python",
     "metadata": {},
     "outputs": [],
     "prompt_number": 124
    },
    {
     "cell_type": "code",
     "collapsed": false,
     "input": [
      "newword"
     ],
     "language": "python",
     "metadata": {},
     "outputs": [
      {
       "metadata": {},
       "output_type": "pyout",
       "prompt_number": 125,
       "text": [
        "['h', 'e', 'l', 'l', 'o', '!', '!']"
       ]
      }
     ],
     "prompt_number": 125
    },
    {
     "cell_type": "code",
     "collapsed": false,
     "input": [
      "for item in newword:\n",
      "    print item"
     ],
     "language": "python",
     "metadata": {},
     "outputs": [
      {
       "output_type": "stream",
       "stream": "stdout",
       "text": [
        "h\n",
        "e\n",
        "l\n",
        "l\n",
        "o\n",
        "!\n",
        "!\n"
       ]
      }
     ],
     "prompt_number": 126
    },
    {
     "cell_type": "code",
     "collapsed": false,
     "input": [
      "'a'+'d'"
     ],
     "language": "python",
     "metadata": {},
     "outputs": [
      {
       "metadata": {},
       "output_type": "pyout",
       "prompt_number": 127,
       "text": [
        "'ad'"
       ]
      }
     ],
     "prompt_number": 127
    },
    {
     "cell_type": "code",
     "collapsed": false,
     "input": [
      "wholeword=''\n",
      "for item in newword:\n",
      "    print \"wholeword before addition:\", wholeword\n",
      "    wholeword=wholeword+item\n",
      "    print \"wholeword after addition:\",wholeword\n",
      "    "
     ],
     "language": "python",
     "metadata": {},
     "outputs": [
      {
       "output_type": "stream",
       "stream": "stdout",
       "text": [
        "wholeword before addition: \n",
        "wholeword after addition: h\n",
        "wholeword before addition: h\n",
        "wholeword after addition: he\n",
        "wholeword before addition: he\n",
        "wholeword after addition: hel\n",
        "wholeword before addition: hel\n",
        "wholeword after addition: hell\n",
        "wholeword before addition: hell\n",
        "wholeword after addition: hello\n",
        "wholeword before addition: hello\n",
        "wholeword after addition: hello!\n",
        "wholeword before addition: hello!\n",
        "wholeword after addition: hello!!\n"
       ]
      }
     ],
     "prompt_number": 128
    },
    {
     "cell_type": "code",
     "collapsed": false,
     "input": [
      "wholeword"
     ],
     "language": "python",
     "metadata": {},
     "outputs": [
      {
       "metadata": {},
       "output_type": "pyout",
       "prompt_number": 129,
       "text": [
        "'hello!!'"
       ]
      }
     ],
     "prompt_number": 129
    },
    {
     "cell_type": "code",
     "collapsed": false,
     "input": [
      "wholeword=''\n",
      "for item in range(len(newword)):\n",
      "    print newword[item]\n",
      "    #print \"wholeword before addition:\", wholeword\n",
      "    #wholeword=wholeword+item\n",
      "    #print \"wholeword after addition:\",wholeword"
     ],
     "language": "python",
     "metadata": {},
     "outputs": [
      {
       "output_type": "stream",
       "stream": "stdout",
       "text": [
        "h\n",
        "e\n",
        "l\n",
        "l\n",
        "o\n",
        "!\n",
        "!\n"
       ]
      }
     ],
     "prompt_number": 131
    },
    {
     "cell_type": "code",
     "collapsed": false,
     "input": [
      "wholeword=''\n",
      "for item in range(len(newword)-1,-1,-1):\n",
      "    print newword[item]\n",
      "    print \"wholeword before addition:\", wholeword\n",
      "    wholeword=wholeword+newword[item]\n",
      "    print \"wholeword after addition:\",wholeword"
     ],
     "language": "python",
     "metadata": {},
     "outputs": [
      {
       "output_type": "stream",
       "stream": "stdout",
       "text": [
        " !\n",
        "wholeword before addition: \n",
        "wholeword after addition: !\n",
        "!\n",
        "wholeword before addition: !\n",
        "wholeword after addition: !!\n",
        "o\n",
        "wholeword before addition: !!\n",
        "wholeword after addition: !!o\n",
        "l\n",
        "wholeword before addition: !!o\n",
        "wholeword after addition: !!ol\n",
        "l\n",
        "wholeword before addition: !!ol\n",
        "wholeword after addition: !!oll\n",
        "e\n",
        "wholeword before addition: !!oll\n",
        "wholeword after addition: !!olle\n",
        "h\n",
        "wholeword before addition: !!olle\n",
        "wholeword after addition: !!olleh\n"
       ]
      }
     ],
     "prompt_number": 147
    },
    {
     "cell_type": "code",
     "collapsed": false,
     "input": [],
     "language": "python",
     "metadata": {},
     "outputs": [],
     "prompt_number": 144
    },
    {
     "cell_type": "code",
     "collapsed": false,
     "input": [
      "newword"
     ],
     "language": "python",
     "metadata": {},
     "outputs": [
      {
       "metadata": {},
       "output_type": "pyout",
       "prompt_number": 148,
       "text": [
        "['h', 'e', 'l', 'l', 'o', '!', '!']"
       ]
      }
     ],
     "prompt_number": 148
    },
    {
     "cell_type": "code",
     "collapsed": false,
     "input": [
      "newword.pop(-1)"
     ],
     "language": "python",
     "metadata": {},
     "outputs": [
      {
       "metadata": {},
       "output_type": "pyout",
       "prompt_number": 150,
       "text": [
        "'!'"
       ]
      }
     ],
     "prompt_number": 150
    },
    {
     "cell_type": "code",
     "collapsed": false,
     "input": [
      "newword"
     ],
     "language": "python",
     "metadata": {},
     "outputs": [
      {
       "metadata": {},
       "output_type": "pyout",
       "prompt_number": 151,
       "text": [
        "['h', 'e', 'l', 'l', 'o', '!']"
       ]
      }
     ],
     "prompt_number": 151
    },
    {
     "cell_type": "code",
     "collapsed": false,
     "input": [
      "newword.pop(-1)"
     ],
     "language": "python",
     "metadata": {},
     "outputs": [
      {
       "metadata": {},
       "output_type": "pyout",
       "prompt_number": 152,
       "text": [
        "'!'"
       ]
      }
     ],
     "prompt_number": 152
    },
    {
     "cell_type": "code",
     "collapsed": false,
     "input": [
      "newword"
     ],
     "language": "python",
     "metadata": {},
     "outputs": [
      {
       "metadata": {},
       "output_type": "pyout",
       "prompt_number": 153,
       "text": [
        "['h', 'e', 'l', 'l', 'o']"
       ]
      }
     ],
     "prompt_number": 153
    },
    {
     "cell_type": "code",
     "collapsed": false,
     "input": [
      "newword.append('!')"
     ],
     "language": "python",
     "metadata": {},
     "outputs": [],
     "prompt_number": 155
    },
    {
     "cell_type": "code",
     "collapsed": false,
     "input": [
      "newword.remove('!')"
     ],
     "language": "python",
     "metadata": {},
     "outputs": [],
     "prompt_number": 156
    },
    {
     "cell_type": "code",
     "collapsed": false,
     "input": [
      "newword"
     ],
     "language": "python",
     "metadata": {},
     "outputs": [
      {
       "metadata": {},
       "output_type": "pyout",
       "prompt_number": 157,
       "text": [
        "['h', 'e', 'l', 'l', 'o']"
       ]
      }
     ],
     "prompt_number": 157
    },
    {
     "cell_type": "code",
     "collapsed": false,
     "input": [
      "word"
     ],
     "language": "python",
     "metadata": {},
     "outputs": [
      {
       "metadata": {},
       "output_type": "pyout",
       "prompt_number": 158,
       "text": [
        "'AGTC'"
       ]
      }
     ],
     "prompt_number": 158
    },
    {
     "cell_type": "code",
     "collapsed": false,
     "input": [
      "word[2]='A'"
     ],
     "language": "python",
     "metadata": {},
     "outputs": [
      {
       "ename": "TypeError",
       "evalue": "'str' object does not support item assignment",
       "output_type": "pyerr",
       "traceback": [
        "\u001b[0;31m---------------------------------------------------------------------------\u001b[0m\n\u001b[0;31mTypeError\u001b[0m                                 Traceback (most recent call last)",
        "\u001b[0;32m<ipython-input-159-4e73bd7660ef>\u001b[0m in \u001b[0;36m<module>\u001b[0;34m()\u001b[0m\n\u001b[0;32m----> 1\u001b[0;31m \u001b[0mword\u001b[0m\u001b[0;34m[\u001b[0m\u001b[0;36m2\u001b[0m\u001b[0;34m]\u001b[0m\u001b[0;34m=\u001b[0m\u001b[0;34m'A'\u001b[0m\u001b[0;34m\u001b[0m\u001b[0m\n\u001b[0m",
        "\u001b[0;31mTypeError\u001b[0m: 'str' object does not support item assignment"
       ]
      }
     ],
     "prompt_number": 159
    },
    {
     "cell_type": "code",
     "collapsed": false,
     "input": [
      "newword[2]='L'\n"
     ],
     "language": "python",
     "metadata": {},
     "outputs": [],
     "prompt_number": 160
    },
    {
     "cell_type": "code",
     "collapsed": false,
     "input": [
      "newword"
     ],
     "language": "python",
     "metadata": {},
     "outputs": [
      {
       "metadata": {},
       "output_type": "pyout",
       "prompt_number": 161,
       "text": [
        "['h', 'e', 'L', 'l', 'o']"
       ]
      }
     ],
     "prompt_number": 161
    },
    {
     "cell_type": "code",
     "collapsed": false,
     "input": [
      "word"
     ],
     "language": "python",
     "metadata": {},
     "outputs": [
      {
       "metadata": {},
       "output_type": "pyout",
       "prompt_number": 162,
       "text": [
        "'AGTC'"
       ]
      }
     ],
     "prompt_number": 162
    },
    {
     "cell_type": "code",
     "collapsed": false,
     "input": [
      "newword.sort()"
     ],
     "language": "python",
     "metadata": {},
     "outputs": [],
     "prompt_number": 163
    },
    {
     "cell_type": "code",
     "collapsed": false,
     "input": [
      "newword"
     ],
     "language": "python",
     "metadata": {},
     "outputs": [
      {
       "metadata": {},
       "output_type": "pyout",
       "prompt_number": 164,
       "text": [
        "['L', 'e', 'h', 'l', 'o']"
       ]
      }
     ],
     "prompt_number": 164
    },
    {
     "cell_type": "code",
     "collapsed": false,
     "input": [
      "newword.append('!')"
     ],
     "language": "python",
     "metadata": {},
     "outputs": [],
     "prompt_number": 165
    },
    {
     "cell_type": "code",
     "collapsed": false,
     "input": [
      "newword.append('!')"
     ],
     "language": "python",
     "metadata": {},
     "outputs": [],
     "prompt_number": 166
    },
    {
     "cell_type": "code",
     "collapsed": false,
     "input": [
      "newword.remove('!')"
     ],
     "language": "python",
     "metadata": {},
     "outputs": [],
     "prompt_number": 167
    },
    {
     "cell_type": "code",
     "collapsed": false,
     "input": [
      "newword"
     ],
     "language": "python",
     "metadata": {},
     "outputs": [
      {
       "metadata": {},
       "output_type": "pyout",
       "prompt_number": 168,
       "text": [
        "['L', 'e', 'h', 'l', 'o', '!']"
       ]
      }
     ],
     "prompt_number": 168
    },
    {
     "cell_type": "code",
     "collapsed": false,
     "input": [
      "newword[1]='!'\n"
     ],
     "language": "python",
     "metadata": {},
     "outputs": [],
     "prompt_number": 169
    },
    {
     "cell_type": "code",
     "collapsed": false,
     "input": [
      "newword"
     ],
     "language": "python",
     "metadata": {},
     "outputs": [
      {
       "metadata": {},
       "output_type": "pyout",
       "prompt_number": 170,
       "text": [
        "['L', '!', 'h', 'l', 'o', '!']"
       ]
      }
     ],
     "prompt_number": 170
    },
    {
     "cell_type": "code",
     "collapsed": false,
     "input": [
      "newword.remove('!')"
     ],
     "language": "python",
     "metadata": {},
     "outputs": [],
     "prompt_number": 171
    },
    {
     "cell_type": "code",
     "collapsed": false,
     "input": [
      "newword"
     ],
     "language": "python",
     "metadata": {},
     "outputs": [
      {
       "metadata": {},
       "output_type": "pyout",
       "prompt_number": 172,
       "text": [
        "['L', 'h', 'l', 'o', '!']"
       ]
      }
     ],
     "prompt_number": 172
    },
    {
     "cell_type": "code",
     "collapsed": false,
     "input": [
      "string='Newton'\n",
      "string_backwards=''\n",
      "for index in range(len(string)-1,-1,-1):\n",
      "    string_backwards=string_backwards+string[index]\n",
      "print string_backwards"
     ],
     "language": "python",
     "metadata": {},
     "outputs": [
      {
       "output_type": "stream",
       "stream": "stdout",
       "text": [
        "notweN\n"
       ]
      }
     ],
     "prompt_number": 177
    },
    {
     "cell_type": "code",
     "collapsed": false,
     "input": [
      "import glob"
     ],
     "language": "python",
     "metadata": {},
     "outputs": [],
     "prompt_number": 178
    },
    {
     "cell_type": "code",
     "collapsed": false,
     "input": [
      "glob.glob('data/*')"
     ],
     "language": "python",
     "metadata": {},
     "outputs": [
      {
       "metadata": {},
       "output_type": "pyout",
       "prompt_number": 180,
       "text": [
        "['data/inflammation-01.csv',\n",
        " 'data/inflammation-02.csv',\n",
        " 'data/inflammation-03.csv',\n",
        " 'data/inflammation-04.csv',\n",
        " 'data/inflammation-05.csv',\n",
        " 'data/inflammation-06.csv',\n",
        " 'data/inflammation-07.csv',\n",
        " 'data/inflammation-08.csv',\n",
        " 'data/inflammation-09.csv',\n",
        " 'data/inflammation-10.csv',\n",
        " 'data/inflammation-11.csv',\n",
        " 'data/inflammation-12.csv',\n",
        " 'data/small-01.csv',\n",
        " 'data/small-02.csv',\n",
        " 'data/small-03.csv']"
       ]
      }
     ],
     "prompt_number": 180
    },
    {
     "cell_type": "code",
     "collapsed": false,
     "input": [
      "glob.glob('data/inflamm*.csv')"
     ],
     "language": "python",
     "metadata": {},
     "outputs": [
      {
       "metadata": {},
       "output_type": "pyout",
       "prompt_number": 181,
       "text": [
        "['data/inflammation-01.csv',\n",
        " 'data/inflammation-02.csv',\n",
        " 'data/inflammation-03.csv',\n",
        " 'data/inflammation-04.csv',\n",
        " 'data/inflammation-05.csv',\n",
        " 'data/inflammation-06.csv',\n",
        " 'data/inflammation-07.csv',\n",
        " 'data/inflammation-08.csv',\n",
        " 'data/inflammation-09.csv',\n",
        " 'data/inflammation-10.csv',\n",
        " 'data/inflammation-11.csv',\n",
        " 'data/inflammation-12.csv']"
       ]
      }
     ],
     "prompt_number": 181
    },
    {
     "cell_type": "code",
     "collapsed": false,
     "input": [
      "help(glob)"
     ],
     "language": "python",
     "metadata": {},
     "outputs": [
      {
       "output_type": "stream",
       "stream": "stdout",
       "text": [
        "Help on module glob:\n",
        "\n",
        "NAME\n",
        "    glob - Filename globbing utility.\n",
        "\n",
        "FILE\n",
        "    //anaconda/lib/python2.7/glob.py\n",
        "\n",
        "MODULE DOCS\n",
        "    http://docs.python.org/library/glob\n",
        "\n",
        "FUNCTIONS\n",
        "    glob(pathname)\n",
        "        Return a list of paths matching a pathname pattern.\n",
        "        \n",
        "        The pattern may contain simple shell-style wildcards a la\n",
        "        fnmatch. However, unlike fnmatch, filenames starting with a\n",
        "        dot are special cases that are not matched by '*' and '?'\n",
        "        patterns.\n",
        "    \n",
        "    iglob(pathname)\n",
        "        Return an iterator which yields the paths matching a pathname pattern.\n",
        "        \n",
        "        The pattern may contain simple shell-style wildcards a la\n",
        "        fnmatch. However, unlike fnmatch, filenames starting with a\n",
        "        dot are special cases that are not matched by '*' and '?'\n",
        "        patterns.\n",
        "\n",
        "DATA\n",
        "    __all__ = ['glob', 'iglob']\n",
        "\n",
        "\n"
       ]
      }
     ],
     "prompt_number": 182
    },
    {
     "cell_type": "code",
     "collapsed": false,
     "input": [
      "help(range)"
     ],
     "language": "python",
     "metadata": {},
     "outputs": [
      {
       "output_type": "stream",
       "stream": "stdout",
       "text": [
        "Help on built-in function range in module __builtin__:\n",
        "\n",
        "range(...)\n",
        "    range(stop) -> list of integers\n",
        "    range(start, stop[, step]) -> list of integers\n",
        "    \n",
        "    Return a list containing an arithmetic progression of integers.\n",
        "    range(i, j) returns [i, i+1, i+2, ..., j-1]; start (!) defaults to 0.\n",
        "    When step is given, it specifies the increment (or decrement).\n",
        "    For example, range(4) returns [0, 1, 2, 3].  The end point is omitted!\n",
        "    These are exactly the valid indices for a list of 4 elements.\n",
        "\n"
       ]
      }
     ],
     "prompt_number": 183
    },
    {
     "cell_type": "code",
     "collapsed": false,
     "input": [
      "files=glob.glob('data/inflamm*.csv')"
     ],
     "language": "python",
     "metadata": {},
     "outputs": [],
     "prompt_number": 184
    },
    {
     "cell_type": "code",
     "collapsed": false,
     "input": [
      "files"
     ],
     "language": "python",
     "metadata": {},
     "outputs": [
      {
       "metadata": {},
       "output_type": "pyout",
       "prompt_number": 185,
       "text": [
        "['data/inflammation-01.csv',\n",
        " 'data/inflammation-02.csv',\n",
        " 'data/inflammation-03.csv',\n",
        " 'data/inflammation-04.csv',\n",
        " 'data/inflammation-05.csv',\n",
        " 'data/inflammation-06.csv',\n",
        " 'data/inflammation-07.csv',\n",
        " 'data/inflammation-08.csv',\n",
        " 'data/inflammation-09.csv',\n",
        " 'data/inflammation-10.csv',\n",
        " 'data/inflammation-11.csv',\n",
        " 'data/inflammation-12.csv']"
       ]
      }
     ],
     "prompt_number": 185
    },
    {
     "cell_type": "code",
     "collapsed": false,
     "input": [
      "for file in files:\n",
      "    print file"
     ],
     "language": "python",
     "metadata": {},
     "outputs": [
      {
       "output_type": "stream",
       "stream": "stdout",
       "text": [
        "data/inflammation-01.csv\n",
        "data/inflammation-02.csv\n",
        "data/inflammation-03.csv\n",
        "data/inflammation-04.csv\n",
        "data/inflammation-05.csv\n",
        "data/inflammation-06.csv\n",
        "data/inflammation-07.csv\n",
        "data/inflammation-08.csv\n",
        "data/inflammation-09.csv\n",
        "data/inflammation-10.csv\n",
        "data/inflammation-11.csv\n",
        "data/inflammation-12.csv\n"
       ]
      }
     ],
     "prompt_number": 186
    },
    {
     "cell_type": "code",
     "collapsed": false,
     "input": [
      "import numpy\n",
      "import matplotlib.pyplot\n",
      "import glob\n",
      "\n",
      "filenames=glob.glob('data/inflammation*.csv')\n",
      "\n",
      "for my_file in filenames:\n",
      "    print \"File being analyzed is\", my_file # python 3 don't forget your () \n",
      "    data = numpy.loadtxt(fname=my_file,delimiter=',')\n",
      "\n",
      "    # set up graphing space\n",
      "    fig = matplotlib.pyplot.figure(figsize=(10.0,3.0))\n",
      "\n",
      "    # position separate graphs\n",
      "    axes1 = fig.add_subplot(1,3,1)\n",
      "    axes2 = fig.add_subplot(1,3,2)\n",
      "    axes3 = fig.add_subplot(1,3,3)\n",
      "\n",
      "    # set y axis labels and tell it what to plot\n",
      "    axes1.set_ylabel('average')\n",
      "    axes1.plot(data.mean(axis=0))\n",
      "\n",
      "    axes2.set_ylabel('max')\n",
      "    axes2.plot(data.max(axis=0))\n",
      "\n",
      "    axes3.set_ylabel('min')\n",
      "    axes3.plot(data.min(axis=0))\n",
      "\n",
      "    fig.tight_layout()\n",
      "\n",
      "    matplotlib.pyplot.show()\n",
      "\n"
     ],
     "language": "python",
     "metadata": {},
     "outputs": [
      {
       "output_type": "stream",
       "stream": "stdout",
       "text": [
        "File being analyzed is data/inflammation-01.csv\n"
       ]
      },
      {
       "metadata": {},
       "output_type": "display_data",
       "png": "[encoded data removed]",
       "text": [
        "<matplotlib.figure.Figure at 0x1043b53d0>"
       ]
      },
      {
       "output_type": "stream",
       "stream": "stdout",
       "text": [
        "File being analyzed is data/inflammation-02.csv\n"
       ]
      },
      {
       "metadata": {},
       "output_type": "display_data",
       "png": "[encoded data removed]",
       "text": [
        "<matplotlib.figure.Figure at 0x106e4b6d0>"
       ]
      },
      {
       "output_type": "stream",
       "stream": "stdout",
       "text": [
        "File being analyzed is data/inflammation-03.csv\n"
       ]
      },
      {
       "metadata": {},
       "output_type": "display_data",
       "png": "[encoded data removed]",
       "text": [
        "<matplotlib.figure.Figure at 0x106a18f10>"
       ]
      },
      {
       "output_type": "stream",
       "stream": "stdout",
       "text": [
        "File being analyzed is data/inflammation-04.csv\n"
       ]
      },
      {
       "metadata": {},
       "output_type": "display_data",
       "png": "[encoded data removed]",
       "text": [
        "<matplotlib.figure.Figure at 0x107872dd0>"
       ]
      },
      {
       "output_type": "stream",
       "stream": "stdout",
       "text": [
        "File being analyzed is data/inflammation-05.csv\n"
       ]
      },
      {
       "metadata": {},
       "output_type": "display_data",
       "png": "[encoded data removed]",
       "text": [
        "<matplotlib.figure.Figure at 0x107b5e4d0>"
       ]
      },
      {
       "output_type": "stream",
       "stream": "stdout",
       "text": [
        "File being analyzed is data/inflammation-06.csv\n"
       ]
      },
      {
       "metadata": {},
       "output_type": "display_data",
       "png": "[encoded data removed]",
       "text": [
        "<matplotlib.figure.Figure at 0x108849150>"
       ]
      },
      {
       "output_type": "stream",
       "stream": "stdout",
       "text": [
        "File being analyzed is data/inflammation-07.csv\n"
       ]
      },
      {
       "metadata": {},
       "output_type": "display_data",
       "png": "[encoded data removed]",
       "text": [
        "<matplotlib.figure.Figure at 0x108b0f0d0>"
       ]
      },
      {
       "output_type": "stream",
       "stream": "stdout",
       "text": [
        "File being analyzed is data/inflammation-08.csv\n"
       ]
      },
      {
       "metadata": {},
       "output_type": "display_data",
       "png": "[encoded data removed]",
       "text": [
        "<matplotlib.figure.Figure at 0x10885a710>"
       ]
      },
      {
       "output_type": "stream",
       "stream": "stdout",
       "text": [
        "File being analyzed is data/inflammation-09.csv\n"
       ]
      },
      {
       "metadata": {},
       "output_type": "display_data",
       "png": "[encoded data removed]",
       "text": [
        "<matplotlib.figure.Figure at 0x106c6b9d0>"
       ]
      },
      {
       "output_type": "stream",
       "stream": "stdout",
       "text": [
        "File being analyzed is data/inflammation-10.csv\n"
       ]
      },
      {
       "metadata": {},
       "output_type": "display_data",
       "png": "[encoded data removed]",
       "text": [
        "<matplotlib.figure.Figure at 0x106e79f90>"
       ]
      },
      {
       "output_type": "stream",
       "stream": "stdout",
       "text": [
        "File being analyzed is data/inflammation-11.csv\n"
       ]
      },
      {
       "metadata": {},
       "output_type": "display_data",
       "png": "[encoded data removed]",
       "text": [
        "<matplotlib.figure.Figure at 0x107512490>"
       ]
      },
      {
       "output_type": "stream",
       "stream": "stdout",
       "text": [
        "File being analyzed is data/inflammation-12.csv\n"
       ]
      },
      {
       "metadata": {},
       "output_type": "display_data",
       "png": "[encoded data removed]",
       "text": [
        "<matplotlib.figure.Figure at 0x107345490>"
       ]
      }
     ],
     "prompt_number": 187
    },
    {
     "cell_type": "code",
     "collapsed": false,
     "input": [
      "num = 37"
     ],
     "language": "python",
     "metadata": {},
     "outputs": [],
     "prompt_number": 188
    },
    {
     "cell_type": "code",
     "collapsed": false,
     "input": [
      "if num > 100:\n",
      "    print \"greater\"\n",
      "elif num > 30:\n",
      "    print \"greater than 30\"\n",
      "else:\n",
      "    print \"not greater than 100\"\n",
      "    \n",
      "print \"done\""
     ],
     "language": "python",
     "metadata": {},
     "outputs": [
      {
       "output_type": "stream",
       "stream": "stdout",
       "text": [
        "greater than 30\n",
        "done\n"
       ]
      }
     ],
     "prompt_number": 190
    },
    {
     "cell_type": "code",
     "collapsed": false,
     "input": [
      "if num > 100:\n",
      "    print \"greater\"\n",
      "elif num < 50:\n",
      "    print \"less than 50\"\n",
      "elif num > 30:\n",
      "    print \"greater than 30\"\n",
      "else:\n",
      "    print \"not greater than 100\"\n",
      "    \n",
      "print \"done\""
     ],
     "language": "python",
     "metadata": {},
     "outputs": [
      {
       "output_type": "stream",
       "stream": "stdout",
       "text": [
        "less than 50\n",
        "done\n"
       ]
      }
     ],
     "prompt_number": 193
    },
    {
     "cell_type": "code",
     "collapsed": false,
     "input": [
      "# don't forget your () if you're using python 3\n",
      "if '':\n",
      "    print \"empty string is true\"\n",
      "if 'word':\n",
      "    print \"word is true\"\n",
      "if []:\n",
      "    print \"empty list is true\"\n",
      "if [1,2,3]:\n",
      "    print \"non-empty list is true\"\n",
      "if 0:\n",
      "    print \"0 is true\"\n",
      "if 1:\n",
      "    print \"1 is true\""
     ],
     "language": "python",
     "metadata": {},
     "outputs": [
      {
       "output_type": "stream",
       "stream": "stdout",
       "text": [
        "word is true\n",
        "non-empty list is true\n",
        "1 is true\n"
       ]
      }
     ],
     "prompt_number": 194
    },
    {
     "cell_type": "code",
     "collapsed": false,
     "input": [
      "num"
     ],
     "language": "python",
     "metadata": {},
     "outputs": [
      {
       "metadata": {},
       "output_type": "pyout",
       "prompt_number": 195,
       "text": [
        "37"
       ]
      }
     ],
     "prompt_number": 195
    },
    {
     "cell_type": "code",
     "collapsed": false,
     "input": [
      "if num == 37:\n",
      "    print \"yes! it's 37\""
     ],
     "language": "python",
     "metadata": {},
     "outputs": [
      {
       "output_type": "stream",
       "stream": "stdout",
       "text": [
        "yes! it's 37\n"
       ]
      }
     ],
     "prompt_number": 196
    },
    {
     "cell_type": "code",
     "collapsed": false,
     "input": [
      "num ==37"
     ],
     "language": "python",
     "metadata": {},
     "outputs": [
      {
       "metadata": {},
       "output_type": "pyout",
       "prompt_number": 197,
       "text": [
        "True"
       ]
      }
     ],
     "prompt_number": 197
    },
    {
     "cell_type": "code",
     "collapsed": false,
     "input": [
      "num = 37"
     ],
     "language": "python",
     "metadata": {},
     "outputs": [],
     "prompt_number": 198
    },
    {
     "cell_type": "code",
     "collapsed": false,
     "input": [
      "my_bool=(num == 37)"
     ],
     "language": "python",
     "metadata": {},
     "outputs": [],
     "prompt_number": 200
    },
    {
     "cell_type": "code",
     "collapsed": false,
     "input": [
      "my_bool"
     ],
     "language": "python",
     "metadata": {},
     "outputs": [
      {
       "metadata": {},
       "output_type": "pyout",
       "prompt_number": 201,
       "text": [
        "True"
       ]
      }
     ],
     "prompt_number": 201
    },
    {
     "cell_type": "code",
     "collapsed": false,
     "input": [
      "type(my_bool)"
     ],
     "language": "python",
     "metadata": {},
     "outputs": [
      {
       "metadata": {},
       "output_type": "pyout",
       "prompt_number": 202,
       "text": [
        "bool"
       ]
      }
     ],
     "prompt_number": 202
    },
    {
     "cell_type": "code",
     "collapsed": false,
     "input": [
      "data[:,10]"
     ],
     "language": "python",
     "metadata": {},
     "outputs": [
      {
       "metadata": {},
       "output_type": "pyout",
       "prompt_number": 204,
       "text": [
        "array([ 10.,   4.,   8.,   8.,   6.,   5.,   3.,   3.,   7.,   8.,   6.,\n",
        "         9.,  10.,   6.,   9.,   4.,   8.,  10.,   8.,   6.,   3.,  10.,\n",
        "         8.,   4.,   6.,   7.,   7.,   4.,   6.,   6.,   9.,   9.,   6.,\n",
        "         2.,   6.,   4.,   8.,   5.,   6.,   2.,   7.,   6.,   2.,   8.,\n",
        "        10.,   9.,   8.,   3.,   9.,   9.,   9.,   2.,   5.,   5.,   6.,\n",
        "         7.,   2.,   5.,   6.,  10.])"
       ]
      }
     ],
     "prompt_number": 204
    },
    {
     "cell_type": "code",
     "collapsed": false,
     "input": [
      "numbers=data[:,10]"
     ],
     "language": "python",
     "metadata": {},
     "outputs": [],
     "prompt_number": 205
    },
    {
     "cell_type": "code",
     "collapsed": false,
     "input": [
      "numbers > 2"
     ],
     "language": "python",
     "metadata": {},
     "outputs": [
      {
       "metadata": {},
       "output_type": "pyout",
       "prompt_number": 206,
       "text": [
        "array([ True,  True,  True,  True,  True,  True,  True,  True,  True,\n",
        "        True,  True,  True,  True,  True,  True,  True,  True,  True,\n",
        "        True,  True,  True,  True,  True,  True,  True,  True,  True,\n",
        "        True,  True,  True,  True,  True,  True, False,  True,  True,\n",
        "        True,  True,  True, False,  True,  True, False,  True,  True,\n",
        "        True,  True,  True,  True,  True,  True, False,  True,  True,\n",
        "        True,  True, False,  True,  True,  True], dtype=bool)"
       ]
      }
     ],
     "prompt_number": 206
    },
    {
     "cell_type": "code",
     "collapsed": false,
     "input": [],
     "language": "python",
     "metadata": {},
     "outputs": [
      {
       "ename": "ValueError",
       "evalue": "The truth value of an array with more than one element is ambiguous. Use a.any() or a.all()",
       "output_type": "pyerr",
       "traceback": [
        "\u001b[0;31m---------------------------------------------------------------------------\u001b[0m\n\u001b[0;31mValueError\u001b[0m                                Traceback (most recent call last)",
        "\u001b[0;32m<ipython-input-207-ec3a8277992c>\u001b[0m in \u001b[0;36m<module>\u001b[0;34m()\u001b[0m\n\u001b[0;32m----> 1\u001b[0;31m \u001b[0;32mif\u001b[0m \u001b[0mnumbers\u001b[0m \u001b[0;34m>\u001b[0m \u001b[0;36m2\u001b[0m\u001b[0;34m:\u001b[0m\u001b[0;34m\u001b[0m\u001b[0m\n\u001b[0m\u001b[1;32m      2\u001b[0m     \u001b[0;32mprint\u001b[0m \u001b[0mnumbers\u001b[0m\u001b[0;34m\u001b[0m\u001b[0m\n",
        "\u001b[0;31mValueError\u001b[0m: The truth value of an array with more than one element is ambiguous. Use a.any() or a.all()"
       ]
      }
     ],
     "prompt_number": 207
    },
    {
     "cell_type": "code",
     "collapsed": false,
     "input": [
      "num >= 37"
     ],
     "language": "python",
     "metadata": {},
     "outputs": [
      {
       "metadata": {},
       "output_type": "pyout",
       "prompt_number": 208,
       "text": [
        "True"
       ]
      }
     ],
     "prompt_number": 208
    },
    {
     "cell_type": "code",
     "collapsed": false,
     "input": [
      "import numpy\n",
      "import matplotlib.pyplot\n",
      "import glob\n",
      "\n",
      "filenames=glob.glob('data/inflammation*.csv')\n",
      "\n",
      "for my_file in filenames:\n",
      "    print \"File being analyzed is\", my_file # python 3 don't forget your () \n",
      "    data = numpy.loadtxt(fname=my_file,delimiter=',')\n",
      "\n",
      "    # set up graphing space\n",
      "    fig = matplotlib.pyplot.figure(figsize=(10.0,3.0))\n",
      "\n",
      "    # position separate graphs\n",
      "    axes1 = fig.add_subplot(1,3,1)\n",
      "    axes2 = fig.add_subplot(1,3,2)\n",
      "    axes3 = fig.add_subplot(1,3,3)\n",
      "\n",
      "    # set y axis labels and tell it what to plot\n",
      "    axes1.set_ylabel('average')\n",
      "    axes1.plot(data.mean(axis=0))\n",
      "\n",
      "    axes2.set_ylabel('max')\n",
      "    axes2.plot(data.max(axis=0))\n",
      "\n",
      "    axes3.set_ylabel('min')\n",
      "    axes3.plot(data.min(axis=0))\n",
      "\n",
      "    fig.tight_layout()\n",
      "\n",
      "    matplotlib.pyplot.show()"
     ],
     "language": "python",
     "metadata": {},
     "outputs": [
      {
       "output_type": "stream",
       "stream": "stdout",
       "text": [
        "File being analyzed is data/inflammation-01.csv\n"
       ]
      },
      {
       "metadata": {},
       "output_type": "display_data",
       "png": "[encoded data removed]",
       "text": [
        "<matplotlib.figure.Figure at 0x107315610>"
       ]
      },
      {
       "output_type": "stream",
       "stream": "stdout",
       "text": [
        "File being analyzed is data/inflammation-02.csv\n"
       ]
      },
      {
       "metadata": {},
       "output_type": "display_data",
       "png": "[encoded data removed]",
       "text": [
        "<matplotlib.figure.Figure at 0x106cde350>"
       ]
      },
      {
       "output_type": "stream",
       "stream": "stdout",
       "text": [
        "File being analyzed is data/inflammation-03.csv\n"
       ]
      },
      {
       "metadata": {},
       "output_type": "display_data",
       "png": "[encoded data removed]",
       "text": [
        "<matplotlib.figure.Figure at 0x106e10f90>"
       ]
      },
      {
       "output_type": "stream",
       "stream": "stdout",
       "text": [
        "File being analyzed is data/inflammation-04.csv\n"
       ]
      },
      {
       "metadata": {},
       "output_type": "display_data",
       "png": "[encoded data removed]",
       "text": [
        "<matplotlib.figure.Figure at 0x106bc9e50>"
       ]
      },
      {
       "output_type": "stream",
       "stream": "stdout",
       "text": [
        "File being analyzed is data/inflammation-05.csv\n"
       ]
      },
      {
       "metadata": {},
       "output_type": "display_data",
       "png": "[encoded data removed]",
       "text": [
        "<matplotlib.figure.Figure at 0x1089a3d10>"
       ]
      },
      {
       "output_type": "stream",
       "stream": "stdout",
       "text": [
        "File being analyzed is data/inflammation-06.csv\n"
       ]
      },
      {
       "metadata": {},
       "output_type": "display_data",
       "png": "[encoded data removed]",
       "text": [
        "<matplotlib.figure.Figure at 0x106c9afd0>"
       ]
      },
      {
       "output_type": "stream",
       "stream": "stdout",
       "text": [
        "File being analyzed is data/inflammation-07.csv\n"
       ]
      },
      {
       "metadata": {},
       "output_type": "display_data",
       "png": "[encoded data removed]",
       "text": [
        "<matplotlib.figure.Figure at 0x106c4de10>"
       ]
      },
      {
       "output_type": "stream",
       "stream": "stdout",
       "text": [
        "File being analyzed is data/inflammation-08.csv\n"
       ]
      },
      {
       "metadata": {},
       "output_type": "display_data",
       "png": "[encoded data removed]",
       "text": [
        "<matplotlib.figure.Figure at 0x108fb8390>"
       ]
      },
      {
       "output_type": "stream",
       "stream": "stdout",
       "text": [
        "File being analyzed is data/inflammation-09.csv\n"
       ]
      },
      {
       "metadata": {},
       "output_type": "display_data",
       "png": "[encoded data removed]",
       "text": [
        "<matplotlib.figure.Figure at 0x1070fbed0>"
       ]
      },
      {
       "output_type": "stream",
       "stream": "stdout",
       "text": [
        "File being analyzed is data/inflammation-10.csv\n"
       ]
      },
      {
       "metadata": {},
       "output_type": "display_data",
       "png": "[encoded data removed]",
       "text": [
        "<matplotlib.figure.Figure at 0x1089f59d0>"
       ]
      },
      {
       "output_type": "stream",
       "stream": "stdout",
       "text": [
        "File being analyzed is data/inflammation-11.csv\n"
       ]
      },
      {
       "metadata": {},
       "output_type": "display_data",
       "png": "[encoded data removed]",
       "text": [
        "<matplotlib.figure.Figure at 0x1079475d0>"
       ]
      },
      {
       "output_type": "stream",
       "stream": "stdout",
       "text": [
        "File being analyzed is data/inflammation-12.csv\n"
       ]
      },
      {
       "metadata": {},
       "output_type": "display_data",
       "png": "[encoded data removed]",
       "text": [
        "<matplotlib.figure.Figure at 0x106a056d0>"
       ]
      }
     ],
     "prompt_number": 209
    },
    {
     "cell_type": "code",
     "collapsed": false,
     "input": [
      "data"
     ],
     "language": "python",
     "metadata": {},
     "outputs": [
      {
       "metadata": {},
       "output_type": "pyout",
       "prompt_number": 210,
       "text": [
        "array([[ 0.,  0.,  2., ...,  1.,  1.,  1.],\n",
        "       [ 0.,  1.,  0., ...,  3.,  0.,  0.],\n",
        "       [ 0.,  1.,  2., ...,  2.,  2.,  1.],\n",
        "       ..., \n",
        "       [ 0.,  0.,  2., ...,  3.,  2.,  1.],\n",
        "       [ 0.,  1.,  0., ...,  0.,  0.,  1.],\n",
        "       [ 0.,  0.,  0., ...,  3.,  0.,  1.]])"
       ]
      }
     ],
     "prompt_number": 210
    },
    {
     "cell_type": "code",
     "collapsed": false,
     "input": [
      "if data.max(axis=0)[0] == 0 and data.max(axis=0)[20] == 20:\n",
      "    print \"suspicious looking maxima\"\n",
      "else:\n",
      "    print \"seems ok!\""
     ],
     "language": "python",
     "metadata": {},
     "outputs": [
      {
       "output_type": "stream",
       "stream": "stdout",
       "text": [
        "suspicious looking maxima\n"
       ]
      }
     ],
     "prompt_number": 212
    },
    {
     "cell_type": "code",
     "collapsed": false,
     "input": [
      "if data.max(axis=0)[0] == 0 and data.max(axis=0)[20] == 20:\n",
      "    print \"suspicious looking maxima\"\n",
      "elif data.min(axis=0).sum() == 0:\n",
      "    print \"Minima add up to zero!\"\n",
      "else:\n",
      "    print \"seems ok!\""
     ],
     "language": "python",
     "metadata": {},
     "outputs": [
      {
       "output_type": "stream",
       "stream": "stdout",
       "text": [
        "suspicious looking maxima\n"
       ]
      }
     ],
     "prompt_number": 213
    },
    {
     "cell_type": "code",
     "collapsed": false,
     "input": [
      "import numpy\n",
      "import matplotlib.pyplot\n",
      "import glob\n",
      "\n",
      "filenames=glob.glob('data/inflammation*.csv')\n",
      "\n",
      "bad_maxes=0\n",
      "bad_mins=0\n",
      "ok_graphs=0\n",
      "for my_file in filenames:\n",
      "    print \"File being analyzed is\", my_file # python 3 don't forget your () \n",
      "    data = numpy.loadtxt(fname=my_file,delimiter=',')\n",
      "    \n",
      "    ## check for suspicious data\n",
      "    if data.max(axis=0)[0] == 0 and data.max(axis=0)[20] == 20:\n",
      "        print \"suspicious looking maxima\"\n",
      "        bad_maxes=bad_maxes+1\n",
      "    elif data.min(axis=0).sum() == 0:\n",
      "        print \"Minima add up to zero!\"\n",
      "        bad_mins=bad_mins+1\n",
      "    else:\n",
      "        print \"seems ok!\"\n",
      "        ok_graphs=ok_graphs+1\n",
      "\n",
      "    # set up graphing space\n",
      "    fig = matplotlib.pyplot.figure(figsize=(10.0,3.0))\n",
      "\n",
      "    # position separate graphs\n",
      "    axes1 = fig.add_subplot(1,3,1)\n",
      "    axes2 = fig.add_subplot(1,3,2)\n",
      "    axes3 = fig.add_subplot(1,3,3)\n",
      "\n",
      "    # set y axis labels and tell it what to plot\n",
      "    axes1.set_ylabel('average')\n",
      "    axes1.plot(data.mean(axis=0))\n",
      "\n",
      "    axes2.set_ylabel('max')\n",
      "    axes2.plot(data.max(axis=0))\n",
      "\n",
      "    axes3.set_ylabel('min')\n",
      "    axes3.plot(data.min(axis=0))\n",
      "\n",
      "    fig.tight_layout()\n",
      "\n",
      "    matplotlib.pyplot.show()"
     ],
     "language": "python",
     "metadata": {},
     "outputs": []
    }
   ],
   "metadata": {}
  }
 ]
}