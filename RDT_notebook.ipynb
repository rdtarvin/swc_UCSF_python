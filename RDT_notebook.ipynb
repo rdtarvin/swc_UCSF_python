{
 "metadata": {
  "name": "",
  "signature": "sha256:324e1745deb9b23aaf8bf1d190e1eeb337fcddb4783c7e5e25a7face3a4427b5"
 },
 "nbformat": 3,
 "nbformat_minor": 0,
 "worksheets": [
  {
   "cells": [
    {
     "cell_type": "markdown",
     "metadata": {},
     "source": [
      "## Welcome to SWC python novice lesson part 1 <br>\n",
      "First things first! Clone the directory with data and scripts to your computer.\n",
      "\n",
      "```python\n",
      "cd ~/Desktop # or wherever you want this folder to be\n",
      "git clone https://github.com/rdtarvin/swc_UCSF_python\n",
      "```\n",
      "\n",
      "If you want to access my python notebook, which I will update during the lesson, just navigate to https://github.com/rdtarvin/swc_UCSF_python/blob/master/RDT_notebook.ipynb and refresh the page."
     ]
    },
    {
     "cell_type": "code",
     "collapsed": false,
     "input": [],
     "language": "python",
     "metadata": {},
     "outputs": []
    }
   ],
   "metadata": {}
  }
 ]
}