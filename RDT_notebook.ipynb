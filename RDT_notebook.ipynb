{
 "metadata": {
  "name": "",
  "signature": "sha256:0ee0e4d1bdeded2a24af754b4e8ec1d09d8a906ac766035b15f4957a59a2f2ce"
 },
 "nbformat": 3,
 "nbformat_minor": 0,
 "worksheets": [
  {
   "cells": [
    {
     "cell_type": "markdown",
     "metadata": {},
     "source": [
      "## Welcome to SWC python novice lesson part 1 <br>\n",
      "First things first! Clone the directory with data and scripts to your computer.\n",
      "\n",
      "```python\n",
      "cd ~/Desktop # or wherever you want this folder to be\n",
      "git clone https://github.com/rdtarvin/swc_UCSF_python\n",
      "```"
     ]
    },
    {
     "cell_type": "code",
     "collapsed": false,
     "input": [],
     "language": "python",
     "metadata": {},
     "outputs": []
    }
   ],
   "metadata": {}
  }
 ]
}