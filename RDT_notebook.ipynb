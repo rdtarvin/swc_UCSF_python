{
 "metadata": {
  "name": "",
  "signature": "sha256:344e7e14e08f5d8794c7d0897fcf5ee40d19aa33edda86254e06b20261164488"
 },
 "nbformat": 3,
 "nbformat_minor": 0,
 "worksheets": [
  {
   "cells": [
    {
     "cell_type": "markdown",
     "metadata": {},
     "source": [
      "## Welcome to SWC python novice lesson part 1 <br>\n",
      "First things first! Clone the directory with data and scripts to your computer.\n",
      "\n",
      "```python\n",
      "cd ~/Desktop # or wherever\n",
      "git clone https://github.com/rdtarvin/swc_UCSF_python\n",
      "```"
     ]
    },
    {
     "cell_type": "code",
     "collapsed": false,
     "input": [],
     "language": "python",
     "metadata": {},
     "outputs": []
    }
   ],
   "metadata": {}
  }
 ]
}