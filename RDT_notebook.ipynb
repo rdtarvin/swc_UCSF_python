{
 "metadata": {
  "name": "",
  "signature": "sha256:ece75ef8b3d8cce76f1d103f7f2609800d61322165a7f0ab6eae369a652a4646"
 },
 "nbformat": 3,
 "nbformat_minor": 0,
 "worksheets": [
  {
   "cells": [
    {
     "cell_type": "markdown",
     "metadata": {},
     "source": [
      "## Welcome to SWC python novice lesson part 1\n",
      "First things first! Download the directory with data and scripts to your computer.\n",
      "\n",
      "```bash\n",
      "cd ~/Desktop # or wherever you want this folder to be\n",
      "git clone https://github.com/rdtarvin/swc_UCSF_python\n",
      "```\n",
      "\n",
      "If you want to access my python notebook, which I will update during the lesson, just navigate to https://github.com/rdtarvin/swc_UCSF_python/blob/master/RDT_notebook.ipynb and refresh the page."
     ]
    },
    {
     "cell_type": "code",
     "collapsed": false,
     "input": [],
     "language": "python",
     "metadata": {},
     "outputs": []
    }
   ],
   "metadata": {}
  }
 ]
}