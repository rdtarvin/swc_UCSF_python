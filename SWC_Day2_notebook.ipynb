{
 "cells": [
  {
   "cell_type": "code",
   "execution_count": 3,
   "metadata": {
    "collapsed": false
   },
   "outputs": [
    {
     "name": "stdout",
     "output_type": "stream",
     "text": [
      "Test1 Test2\n"
     ]
    }
   ],
   "source": [
    "# this is a test to see if python3 notebook is working\n",
    "\n",
    "print('Test1','Test2')\n",
    "\n",
    "## seems to be working!"
   ]
  },
  {
   "cell_type": "markdown",
   "metadata": {
    "collapsed": true
   },
   "source": [
    "# We've learned a number of concepts in python already that are transferrable across languages\n",
    "\n",
    "1. variable types\n",
    "2. methods, attributes, functions\n",
    "3. for loops\n",
    "4. conditionals\n",
    "\n",
    "For example, here are for loops and conditionals:\n",
    "\n",
    "\n",
    "```bash\n",
    "# in bash\n",
    "for filename in *.csv\n",
    "do \n",
    "    echo $filename\n",
    "done\n",
    "\n",
    "if [ $filename1 = $filename2 ]; then\n",
    "    echo 'files have the same name'\n",
    "else\n",
    "    echo 'files have different names'\n",
    "fi\n",
    "```\n",
    "```R\n",
    "# in R\n",
    "for(dataset in datalist) {\n",
    "    head(dataset)\n",
    "}\n",
    "\n",
    "if (x == y) {\n",
    "    print(\"Numbers are the same\")\n",
    "} else {\n",
    "    print(\"Numbers are different\")\n",
    "}\n",
    "```\n",
    "```python\n",
    "# in python\n",
    "for variable in my_list:\n",
    "    print(variable)\n",
    "    \n",
    "if x == y:\n",
    "    print(\"Numbers are the same!\")\n",
    "else:\n",
    "    print(\"Numbers are different!\")\n",
    "```\n"
   ]
  },
  {
   "cell_type": "code",
   "execution_count": 1,
   "metadata": {
    "collapsed": true
   },
   "outputs": [],
   "source": [
    "def fahr_to_kelvin(temp):\n",
    "    return ((temp-32)*(5.0/9)) + 273.15"
   ]
  },
  {
   "cell_type": "code",
   "execution_count": 2,
   "metadata": {
    "collapsed": false
   },
   "outputs": [
    {
     "data": {
      "text/plain": [
       "275.92777777777775"
      ]
     },
     "execution_count": 2,
     "metadata": {},
     "output_type": "execute_result"
    }
   ],
   "source": [
    "fahr_to_kelvin(37)"
   ]
  },
  {
   "cell_type": "code",
   "execution_count": 3,
   "metadata": {
    "collapsed": false
   },
   "outputs": [
    {
     "name": "stdout",
     "output_type": "stream",
     "text": [
      "freezing point of water: 273.15\n"
     ]
    }
   ],
   "source": [
    "print('freezing point of water:', fahr_to_kelvin(32))"
   ]
  },
  {
   "cell_type": "code",
   "execution_count": 4,
   "metadata": {
    "collapsed": false
   },
   "outputs": [
    {
     "name": "stdout",
     "output_type": "stream",
     "text": [
      "boiling point of water: 373.15\n"
     ]
    }
   ],
   "source": [
    "print('boiling point of water:', fahr_to_kelvin(212))"
   ]
  },
  {
   "cell_type": "code",
   "execution_count": 5,
   "metadata": {
    "collapsed": false
   },
   "outputs": [
    {
     "name": "stdout",
     "output_type": "stream",
     "text": [
      "absolute zero in Celsius: -273.15\n"
     ]
    }
   ],
   "source": [
    "def kelvin_to_celsius(temp_k):\n",
    "    return temp_k -273.15\n",
    "\n",
    "print('absolute zero in Celsius:', kelvin_to_celsius(0.0))"
   ]
  },
  {
   "cell_type": "code",
   "execution_count": 8,
   "metadata": {
    "collapsed": false
   },
   "outputs": [
    {
     "name": "stdout",
     "output_type": "stream",
     "text": [
      "temperature in kelvin: 273.15\n",
      "freezing \"point of water\" in Celsius: 0.0\n"
     ]
    }
   ],
   "source": [
    "def fahr_to_celsius(temp_f):\n",
    "    temp_k = fahr_to_kelvin(temp_f)\n",
    "    print(\"temperature in kelvin:\", temp_k)\n",
    "    result = kelvin_to_celsius(temp_k)\n",
    "    return result\n",
    "\n",
    "print('freezing \"point of water\" in Celsius:', fahr_to_celsius(32.0))"
   ]
  },
  {
   "cell_type": "code",
   "execution_count": 7,
   "metadata": {
    "collapsed": false
   },
   "outputs": [
    {
     "name": "stdout",
     "output_type": "stream",
     "text": [
      "temperature in kelvin: 3033.15\n"
     ]
    },
    {
     "data": {
      "text/plain": [
       "2760.0"
      ]
     },
     "execution_count": 7,
     "metadata": {},
     "output_type": "execute_result"
    }
   ],
   "source": [
    "fahr_to_celsius(5000)"
   ]
  },
  {
   "cell_type": "markdown",
   "metadata": {},
   "source": [
    "Challenge:\n",
    "\n",
    "Write a function that takes two numbers and adds them together.\n",
    "\n",
    "add("
   ]
  }
 ],
 "metadata": {
  "kernelspec": {
   "display_name": "Python 3",
   "language": "python",
   "name": "python3"
  },
  "language_info": {
   "codemirror_mode": {
    "name": "ipython",
    "version": 3
   },
   "file_extension": ".py",
   "mimetype": "text/x-python",
   "name": "python",
   "nbconvert_exporter": "python",
   "pygments_lexer": "ipython3",
   "version": "3.5.1"
  }
 },
 "nbformat": 4,
 "nbformat_minor": 0
}
