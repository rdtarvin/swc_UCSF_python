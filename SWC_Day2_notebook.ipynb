{
 "cells": [
  {
   "cell_type": "code",
   "execution_count": 3,
   "metadata": {
    "collapsed": false
   },
   "outputs": [
    {
     "name": "stdout",
     "output_type": "stream",
     "text": [
      "Test1 Test2\n"
     ]
    }
   ],
   "source": [
    "# this is a test to see if python3 notebook is working\n",
    "\n",
    "print('Test1','Test2')\n",
    "\n",
    "## seems to be working!"
   ]
  },
  {
   "cell_type": "markdown",
   "metadata": {
    "collapsed": true
   },
   "source": [
    "# We've learned a number of concepts in python already that are transferrable across languages\n",
    "\n",
    "1. variable types\n",
    "2. methods, attributes, functions\n",
    "3. for loops\n",
    "4. conditionals\n",
    "\n",
    "For example, here are for loops and conditionals:\n",
    "\n",
    "\n",
    "```bash\n",
    "# in bash\n",
    "for filename in *.csv\n",
    "do \n",
    "    echo $filename\n",
    "done\n",
    "\n",
    "if [ $filename1 = $filename2 ]; then\n",
    "    echo 'files have the same name'\n",
    "else\n",
    "    echo 'files have different names'\n",
    "fi\n",
    "```\n",
    "```R\n",
    "# in R\n",
    "for(dataset in datalist) {\n",
    "    head(dataset)\n",
    "}\n",
    "\n",
    "if (x == y) {\n",
    "    print(\"Numbers are the same\")\n",
    "} else {\n",
    "    print(\"Numbers are different\")\n",
    "}\n",
    "```\n",
    "```python\n",
    "# in python\n",
    "for variable in my_list:\n",
    "    print(variable)\n",
    "    \n",
    "if x == y:\n",
    "    print(\"Numbers are the same!\")\n",
    "else:\n",
    "    print(\"Numbers are different!\")\n",
    "```\n"
   ]
  },
  {
   "cell_type": "code",
   "execution_count": null,
   "metadata": {
    "collapsed": true
   },
   "outputs": [],
   "source": []
  }
 ],
 "metadata": {
  "kernelspec": {
   "display_name": "Python 3",
   "language": "python",
   "name": "python3"
  },
  "language_info": {
   "codemirror_mode": {
    "name": "ipython",
    "version": 3
   },
   "file_extension": ".py",
   "mimetype": "text/x-python",
   "name": "python",
   "nbconvert_exporter": "python",
   "pygments_lexer": "ipython3",
   "version": "3.5.1"
  }
 },
 "nbformat": 4,
 "nbformat_minor": 0
}
